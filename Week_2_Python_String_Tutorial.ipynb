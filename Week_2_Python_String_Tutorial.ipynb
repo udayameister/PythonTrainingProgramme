{
  "cells": [
    {
      "cell_type": "markdown",
      "metadata": {
        "id": "view-in-github",
        "colab_type": "text"
      },
      "source": [
        "<a href=\"https://colab.research.google.com/github/udayameister/PythonTrainingProgramme/blob/main/Week_2_Python_String_Tutorial.ipynb\" target=\"_parent\"><img src=\"https://colab.research.google.com/assets/colab-badge.svg\" alt=\"Open In Colab\"/></a>"
      ]
    },
    {
      "cell_type": "markdown",
      "metadata": {
        "id": "EW_nFGDQOZlh"
      },
      "source": [
        "# Python String Tutorial - Python String Function & Operations"
      ]
    },
    {
      "cell_type": "markdown",
      "metadata": {
        "id": "7AeyHZ-BOZli"
      },
      "source": [
        "## 1. Python String Tutorial"
      ]
    },
    {
      "cell_type": "markdown",
      "metadata": {
        "id": "Q-zi_H7TOZlj"
      },
      "source": [
        "#### We will learn how to declare and slice a string in python and also look at the python string functions and python string operation."
      ]
    },
    {
      "cell_type": "markdown",
      "metadata": {
        "id": "uj1TStNmOZlj"
      },
      "source": [
        "#### At last, we cover escape sequences in Python. As we saw earlier, you dont need to mention the data type when declaring a string"
      ]
    },
    {
      "cell_type": "markdown",
      "metadata": {
        "id": "fSciOto6OZlj"
      },
      "source": [
        "## 2. What is Python String?"
      ]
    },
    {
      "cell_type": "markdown",
      "metadata": {
        "id": "d1zMBdnVOZlj"
      },
      "source": [
        "#### A Python string is a sequence of characters. There is a built-in class 'str' for handling Python string. You can prove this with type() function.|"
      ]
    },
    {
      "cell_type": "code",
      "execution_count": null,
      "metadata": {
        "id": "SC7XQmooOZlk",
        "outputId": "6a6ec6ac-8714-4b0a-f157-4acc98c95580"
      },
      "outputs": [
        {
          "data": {
            "text/plain": [
              "str"
            ]
          },
          "execution_count": 1,
          "metadata": {},
          "output_type": "execute_result"
        }
      ],
      "source": [
        "type('Dogs are love')"
      ]
    },
    {
      "cell_type": "markdown",
      "metadata": {
        "id": "xkfqWqkpOZlk"
      },
      "source": [
        "## 3. How to Declare Python String?"
      ]
    },
    {
      "cell_type": "markdown",
      "metadata": {
        "id": "sg8UY-e3OZlk"
      },
      "source": [
        "#### You can declare a python string using either single quotes or double quotes."
      ]
    },
    {
      "cell_type": "code",
      "execution_count": null,
      "metadata": {
        "id": "0SyFsGmwOZlk"
      },
      "outputs": [],
      "source": [
        "a='Dogs are love'"
      ]
    },
    {
      "cell_type": "code",
      "execution_count": null,
      "metadata": {
        "id": "UHGL3m_SOZll",
        "outputId": "9665f99d-bab6-4838-ad73-1daff1d46f9b"
      },
      "outputs": [
        {
          "name": "stdout",
          "output_type": "stream",
          "text": [
            "Dogs are love\n"
          ]
        }
      ],
      "source": [
        "print(a)"
      ]
    },
    {
      "cell_type": "code",
      "execution_count": null,
      "metadata": {
        "id": "AS43VYyrOZll"
      },
      "outputs": [],
      "source": [
        "a = \"Dogs are love\""
      ]
    },
    {
      "cell_type": "code",
      "execution_count": null,
      "metadata": {
        "id": "Nnw6TeJXOZll",
        "outputId": "8fca3c9e-1418-403c-a90c-0b871a6e275d"
      },
      "outputs": [
        {
          "name": "stdout",
          "output_type": "stream",
          "text": [
            "Dogs are love\n"
          ]
        }
      ],
      "source": [
        "print(a)"
      ]
    },
    {
      "cell_type": "markdown",
      "metadata": {
        "id": "M8TOGa4aOZll"
      },
      "source": [
        "#### However, you cannot use a single quote to begin a string and a double quote to end it, and vice-versa"
      ]
    },
    {
      "cell_type": "markdown",
      "metadata": {
        "id": "d5t1ENDROZll"
      },
      "source": [
        "## 5. Spanning a string across lines"
      ]
    },
    {
      "cell_type": "markdown",
      "metadata": {
        "id": "PR39mxwVOZll"
      },
      "source": [
        "#### When you want to span a python string across multiple lines, you can use triple quotes"
      ]
    },
    {
      "cell_type": "code",
      "execution_count": null,
      "metadata": {
        "id": "Qz7uLIqMOZlm",
        "outputId": "5a7fc955-22ab-4e9f-903d-31981f9234b2"
      },
      "outputs": [
        {
          "ename": "SyntaxError",
          "evalue": "invalid syntax (<ipython-input-6-e3ee1de82af9>, line 1)",
          "output_type": "error",
          "traceback": [
            "\u001b[0;36m  File \u001b[0;32m\"<ipython-input-6-e3ee1de82af9>\"\u001b[0;36m, line \u001b[0;32m1\u001b[0m\n\u001b[0;31m    <pre data-enlighter-language=\"php\" class = \"EnlighterJSRAW\">>>>\u001b[0m\n\u001b[0m    ^\u001b[0m\n\u001b[0;31mSyntaxError\u001b[0m\u001b[0;31m:\u001b[0m invalid syntax\n"
          ]
        }
      ],
      "source": [
        "<pre data-enlighter-language=\"php\" class = \"EnlighterJSRAW\">>>>\n",
        "a=\"\"\"Hello\n",
        "    welcome\"\"\""
      ]
    },
    {
      "cell_type": "code",
      "execution_count": null,
      "metadata": {
        "id": "u0Gewh3AOZlm",
        "outputId": "527f2cf1-8fed-435a-fe6c-ae672c43a44f"
      },
      "outputs": [
        {
          "ename": "SyntaxError",
          "evalue": "invalid syntax (<ipython-input-8-1a6fc527a8b6>, line 1)",
          "output_type": "error",
          "traceback": [
            "\u001b[0;36m  File \u001b[0;32m\"<ipython-input-8-1a6fc527a8b6>\"\u001b[0;36m, line \u001b[0;32m1\u001b[0m\n\u001b[0;31m    <pre data-enlighter-language=\"php\" class=\"EnlighterJSRAW\">>>>\u001b[0m\n\u001b[0m    ^\u001b[0m\n\u001b[0;31mSyntaxError\u001b[0m\u001b[0;31m:\u001b[0m invalid syntax\n"
          ]
        }
      ],
      "source": [
        "<pre data-enlighter-language=\"php\" class=\"EnlighterJSRAW\">>>>\n",
        "a=\"\"\"Hello\n",
        "    welcome\"\"\"\n",
        ">>> print(a)</pre>"
      ]
    },
    {
      "cell_type": "code",
      "execution_count": null,
      "metadata": {
        "id": "kqsdlRIlOZlm"
      },
      "outputs": [],
      "source": [
        "a=\"\"\"Hello\n",
        "    welcome\"\"\""
      ]
    },
    {
      "cell_type": "code",
      "execution_count": null,
      "metadata": {
        "id": "0VtgbSbUOZlm",
        "outputId": "5ad70b20-7f59-4a96-c456-266d8cf23b33"
      },
      "outputs": [
        {
          "name": "stdout",
          "output_type": "stream",
          "text": [
            "Hello\n",
            "    welcome\n"
          ]
        }
      ],
      "source": [
        "print(a)"
      ]
    },
    {
      "cell_type": "markdown",
      "metadata": {
        "id": "Tkw1RneBOZlm"
      },
      "source": [
        "## 6. How to access python string"
      ]
    },
    {
      "cell_type": "markdown",
      "metadata": {
        "id": "92SIgXIfOZlm"
      },
      "source": [
        "#### A string is immutable; it cant be changed."
      ]
    },
    {
      "cell_type": "code",
      "execution_count": null,
      "metadata": {
        "id": "bMPAjYsMOZlm"
      },
      "outputs": [],
      "source": [
        "a=\"Dogs are love\""
      ]
    },
    {
      "cell_type": "code",
      "execution_count": null,
      "metadata": {
        "id": "OWZiNE9JOZlm",
        "outputId": "dc85634f-5a7c-4e92-8e15-e45365c330ed"
      },
      "outputs": [
        {
          "ename": "TypeError",
          "evalue": "'str' object does not support item assignment",
          "output_type": "error",
          "traceback": [
            "\u001b[0;31m---------------------------------------------------------------------------\u001b[0m",
            "\u001b[0;31mTypeError\u001b[0m                                 Traceback (most recent call last)",
            "\u001b[0;32m<ipython-input-13-fa1c4c621efb>\u001b[0m in \u001b[0;36m<module>\u001b[0;34m\u001b[0m\n\u001b[0;32m----> 1\u001b[0;31m \u001b[0ma\u001b[0m\u001b[0;34m[\u001b[0m\u001b[0;36m0\u001b[0m\u001b[0;34m]\u001b[0m \u001b[0;34m=\u001b[0m\u001b[0;34m\"H\"\u001b[0m\u001b[0;34m\u001b[0m\u001b[0;34m\u001b[0m\u001b[0m\n\u001b[0m",
            "\u001b[0;31mTypeError\u001b[0m: 'str' object does not support item assignment"
          ]
        }
      ],
      "source": [
        "a[0] =\"H\""
      ]
    },
    {
      "cell_type": "markdown",
      "metadata": {
        "id": "FlBHPk8XOZln"
      },
      "source": [
        "### a. Displaying a single character"
      ]
    },
    {
      "cell_type": "markdown",
      "metadata": {
        "id": "XBIa_7PDOZln"
      },
      "source": [
        "#### To display a single character from a string, put its index in square brackets. Indexing begins at 0"
      ]
    },
    {
      "cell_type": "code",
      "execution_count": null,
      "metadata": {
        "id": "wVsw6q-1OZln",
        "outputId": "9b5f8033-21d9-4cc9-d040-8cde16fa5c6b"
      },
      "outputs": [
        {
          "data": {
            "text/plain": [
              "'D'"
            ]
          },
          "execution_count": 14,
          "metadata": {},
          "output_type": "execute_result"
        }
      ],
      "source": [
        "a[0]"
      ]
    },
    {
      "cell_type": "markdown",
      "metadata": {
        "id": "Ft1Dy4XPOZln"
      },
      "source": [
        "#### b. Slicing a string"
      ]
    },
    {
      "cell_type": "markdown",
      "metadata": {
        "id": "XsFxCMKfOZln"
      },
      "source": [
        "#### Sometimes, you may want to display only a part of a string. For this, use the slicing operator[]."
      ]
    },
    {
      "cell_type": "code",
      "execution_count": null,
      "metadata": {
        "id": "DUslIPQTOZln",
        "outputId": "d3426770-2b76-46b0-a30f-8e4b9adaec1b"
      },
      "outputs": [
        {
          "data": {
            "text/plain": [
              "'s are'"
            ]
          },
          "execution_count": 21,
          "metadata": {},
          "output_type": "execute_result"
        }
      ],
      "source": [
        "a[3:8]"
      ]
    },
    {
      "cell_type": "markdown",
      "metadata": {
        "id": "82wGrv54OZln"
      },
      "source": [
        "#### Here, it printed characters 3 to 7 with indexing begining at 0."
      ]
    },
    {
      "cell_type": "code",
      "execution_count": null,
      "metadata": {
        "id": "PDYpasi2OZln",
        "outputId": "d0bfc3eb-3617-4ae4-89fb-da4b4e8dd27c"
      },
      "outputs": [
        {
          "data": {
            "text/plain": [
              "'Dogs are'"
            ]
          },
          "execution_count": 22,
          "metadata": {},
          "output_type": "execute_result"
        }
      ],
      "source": [
        "a[:8]"
      ]
    },
    {
      "cell_type": "markdown",
      "metadata": {
        "id": "YzTW39a3OZln"
      },
      "source": [
        "#### This prints characters from the begining to character 7"
      ]
    },
    {
      "cell_type": "code",
      "execution_count": null,
      "metadata": {
        "id": "ugPSSCFoOZlo",
        "outputId": "5d70494b-75bc-4cdd-bdb3-6805be6884a9"
      },
      "outputs": [
        {
          "data": {
            "text/plain": [
              "' love'"
            ]
          },
          "execution_count": 23,
          "metadata": {},
          "output_type": "execute_result"
        }
      ],
      "source": [
        "a[8:]"
      ]
    },
    {
      "cell_type": "markdown",
      "metadata": {
        "id": "_NflK3CdOZlo"
      },
      "source": [
        "#### This prints characters from character 8 to the end of the string."
      ]
    },
    {
      "cell_type": "code",
      "execution_count": null,
      "metadata": {
        "id": "SPtG0M49OZlo",
        "outputId": "fd9f794a-3cfc-4162-f38d-69882da80a66"
      },
      "outputs": [
        {
          "data": {
            "text/plain": [
              "'Dogs are love'"
            ]
          },
          "execution_count": 24,
          "metadata": {},
          "output_type": "execute_result"
        }
      ],
      "source": [
        "a[:]"
      ]
    },
    {
      "cell_type": "markdown",
      "metadata": {
        "id": "TSUDDVOKOZlo"
      },
      "source": [
        "#### This prints the whole string."
      ]
    },
    {
      "cell_type": "code",
      "execution_count": null,
      "metadata": {
        "id": "v670_5HmOZlo",
        "outputId": "2a346d1a-e544-4f58-c994-3b65e6f7f0e5"
      },
      "outputs": [
        {
          "data": {
            "text/plain": [
              "'Dogs are lo'"
            ]
          },
          "execution_count": 27,
          "metadata": {},
          "output_type": "execute_result"
        }
      ],
      "source": [
        "a[:-2]\n",
        "# this prints characters from the beginning to two characters less than the end of the string"
      ]
    },
    {
      "cell_type": "markdown",
      "metadata": {
        "id": "-IgEmtiGOZlo"
      },
      "source": [
        "#### This prints characters from three characters from the strings end to two characters from it."
      ]
    },
    {
      "cell_type": "code",
      "execution_count": null,
      "metadata": {
        "id": "GoXX3GwKOZlo",
        "outputId": "187fa0a7-41ee-429d-d768-4b607fb037a8"
      },
      "outputs": [
        {
          "data": {
            "text/plain": [
              "'o'"
            ]
          },
          "execution_count": 28,
          "metadata": {},
          "output_type": "execute_result"
        }
      ],
      "source": [
        "a[-3:-2]"
      ]
    },
    {
      "cell_type": "markdown",
      "metadata": {
        "id": "t7CckWglOZlp"
      },
      "source": [
        "## 7. Python String concatenation"
      ]
    },
    {
      "cell_type": "markdown",
      "metadata": {
        "id": "pPOT8Z_dOZlp"
      },
      "source": [
        "#### Concatenation is the operation of joining stuff together. Python strings can join using the concatenation operator +"
      ]
    },
    {
      "cell_type": "code",
      "execution_count": null,
      "metadata": {
        "id": "prQ2iAxfOZlp",
        "outputId": "20c22ec6-99f0-4cd0-cbe8-9e9f2964cb56"
      },
      "outputs": [
        {
          "data": {
            "text/plain": [
              "'Do you see this, $$?'"
            ]
          },
          "execution_count": 29,
          "metadata": {},
          "output_type": "execute_result"
        }
      ],
      "source": [
        "a = 'Do you see this, '\n",
        "b = '$$?'\n",
        "a+b"
      ]
    },
    {
      "cell_type": "code",
      "execution_count": null,
      "metadata": {
        "id": "VXEMH-ExOZlp",
        "outputId": "766dc0dc-15d5-4685-c461-039cd886122c"
      },
      "outputs": [
        {
          "name": "stdout",
          "output_type": "stream",
          "text": [
            "1010\n"
          ]
        }
      ],
      "source": [
        "a = '10'\n",
        "print(2*a)"
      ]
    },
    {
      "cell_type": "markdown",
      "metadata": {
        "id": "OVd6lwVPOZlp"
      },
      "source": [
        "#### Multiplying 'a' by 2 returned 1010, and not 20, because '10' is a string, not a number. You can either use commas, or use string formatters for the same."
      ]
    },
    {
      "cell_type": "markdown",
      "metadata": {
        "id": "i9FNVwunOZlp"
      },
      "source": [
        "## 8. Python String Formatters"
      ]
    },
    {
      "cell_type": "code",
      "execution_count": null,
      "metadata": {
        "id": "Uh1s-GqzOZlp"
      },
      "outputs": [],
      "source": [
        "city = 'Ahmedabad'"
      ]
    },
    {
      "cell_type": "code",
      "execution_count": null,
      "metadata": {
        "id": "rb6SrGJ-OZlq",
        "outputId": "7f755967-bcab-498c-ab42-e1a1f2e9a4ae"
      },
      "outputs": [
        {
          "name": "stdout",
          "output_type": "stream",
          "text": [
            "age 21 city Ahmedabad\n"
          ]
        }
      ],
      "source": [
        "print (\"age\",21, \"city\" , city)"
      ]
    },
    {
      "cell_type": "markdown",
      "metadata": {
        "id": "3RhU-3_HOZlq"
      },
      "source": [
        "### I. f-strings"
      ]
    },
    {
      "cell_type": "markdown",
      "metadata": {
        "id": "Tx2fW_9ZOZlq"
      },
      "source": [
        "#### The letter 'f' precedes the string, and the variables are mentioned in curly braces in their places."
      ]
    },
    {
      "cell_type": "code",
      "execution_count": null,
      "metadata": {
        "id": "k3VsQgJQOZlq"
      },
      "outputs": [],
      "source": [
        "name = 'Manish'"
      ]
    },
    {
      "cell_type": "code",
      "execution_count": null,
      "metadata": {
        "id": "QtAPUV54OZlq",
        "outputId": "e8bba280-7194-4c44-9993-8a2d2aaf8555"
      },
      "outputs": [
        {
          "name": "stdout",
          "output_type": "stream",
          "text": [
            "it isnt Manish's birthday\n"
          ]
        }
      ],
      "source": [
        "print(f\"it isnt {name}'s birthday\")"
      ]
    },
    {
      "cell_type": "markdown",
      "metadata": {
        "id": "hGsWSxtvOZlq"
      },
      "source": [
        "#### Notice that because we wanted to use two single quotes in the string, we delimited the entire string with double quotes instead."
      ]
    },
    {
      "cell_type": "markdown",
      "metadata": {
        "id": "Na46c7giOZlq"
      },
      "source": [
        "### ii. format() method"
      ]
    },
    {
      "cell_type": "markdown",
      "metadata": {
        "id": "6mm1oSu7OZlr"
      },
      "source": [
        "#### We can use the format() method to do the same. It succeeds the string, and has the variables as arguments separated by commas. In the string, use curly braces to posit the variables. Inside the curly braces, you can either put 0,1, ... or the variables. When doing the latter, you must assign values to them in the format method."
      ]
    },
    {
      "cell_type": "code",
      "execution_count": null,
      "metadata": {
        "id": "Eij3EeE2OZlr",
        "outputId": "815ae58d-3887-425c-cd4f-0859bad11562"
      },
      "outputs": [
        {
          "name": "stdout",
          "output_type": "stream",
          "text": [
            "I have 10\n"
          ]
        }
      ],
      "source": [
        "print(\"I have {0}\".format(a))"
      ]
    },
    {
      "cell_type": "code",
      "execution_count": null,
      "metadata": {
        "id": "YT5OfqRKOZlr",
        "outputId": "ff039227-a8c8-426b-e66a-22695c1741a1"
      },
      "outputs": [
        {
          "name": "stdout",
          "output_type": "stream",
          "text": [
            "I love cats\n"
          ]
        }
      ],
      "source": [
        "print(\"I love {a}\".format(a='cats'))"
      ]
    },
    {
      "cell_type": "markdown",
      "metadata": {
        "id": "Tm8C5hdPOZlr"
      },
      "source": [
        "#### The variables dont have to defined before the print statement"
      ]
    },
    {
      "cell_type": "code",
      "execution_count": null,
      "metadata": {
        "id": "gOmlE4UuOZlr",
        "outputId": "9b94990b-f178-4226-e138-ccb037a89336"
      },
      "outputs": [
        {
          "name": "stdout",
          "output_type": "stream",
          "text": [
            "I love ferrets\n"
          ]
        }
      ],
      "source": [
        "print(\"I love {b}\".format(b='ferrets'))"
      ]
    },
    {
      "cell_type": "code",
      "execution_count": null,
      "metadata": {
        "id": "H3DLzDU2OZlr",
        "outputId": "9ea505c4-dc1f-45fc-9f69-c65954b9ae23"
      },
      "outputs": [
        {
          "data": {
            "text/plain": [
              "'$$?'"
            ]
          },
          "execution_count": 39,
          "metadata": {},
          "output_type": "execute_result"
        }
      ],
      "source": [
        "b"
      ]
    },
    {
      "cell_type": "markdown",
      "metadata": {
        "id": "MH0ZwReuOZlr"
      },
      "source": [
        "### c. % operator"
      ]
    },
    {
      "cell_type": "markdown",
      "metadata": {
        "id": "XtMyffncOZlr"
      },
      "source": [
        "#### The % operator goes where the variables go in a string. %s is for string. What follows the string is the operator and variables in parentheses/in a tuple."
      ]
    },
    {
      "cell_type": "code",
      "execution_count": null,
      "metadata": {
        "id": "vkm1SzipOZlr"
      },
      "outputs": [],
      "source": [
        "a=\"dog\""
      ]
    },
    {
      "cell_type": "code",
      "execution_count": null,
      "metadata": {
        "id": "XmLxDtYxOZls"
      },
      "outputs": [],
      "source": [
        "b=\"ferrets\""
      ]
    },
    {
      "cell_type": "code",
      "execution_count": null,
      "metadata": {
        "id": "rGEzr_G-OZls",
        "outputId": "44d6007b-cbe6-443d-eafe-c058a1680c25"
      },
      "outputs": [
        {
          "name": "stdout",
          "output_type": "stream",
          "text": [
            "I love dog and ferrets\n"
          ]
        }
      ],
      "source": [
        "print(\"I love %s and %s\" %(a,b))"
      ]
    },
    {
      "cell_type": "markdown",
      "metadata": {
        "id": "LGC48LywOZls"
      },
      "source": [
        "#### Other options include"
      ]
    },
    {
      "cell_type": "markdown",
      "metadata": {
        "id": "IJNbObrEOZls"
      },
      "source": [
        "#### %d - for integers"
      ]
    },
    {
      "cell_type": "markdown",
      "metadata": {
        "id": "tFCsNogbOZls"
      },
      "source": [
        "#### %f - for floating-point numbers"
      ]
    },
    {
      "cell_type": "markdown",
      "metadata": {
        "id": "MBYPc5ReOZls"
      },
      "source": [
        "## 9. Escape Sequences in Python"
      ]
    },
    {
      "cell_type": "markdown",
      "metadata": {
        "id": "Kt5uLtsMOZlt"
      },
      "source": [
        "#### In a python string, you may want to put a tab, a linefeed, or other such things. Escape sequences allow us to do this. An escape sequeunce is a backslash followed by a character, depending on what you want to do. Python supports the following sequences."
      ]
    },
    {
      "cell_type": "markdown",
      "metadata": {
        "id": "PB5k1vnFOZlt"
      },
      "source": [
        "#### \\n - linefeed"
      ]
    },
    {
      "cell_type": "markdown",
      "metadata": {
        "id": "3ZhTAdfgOZlt"
      },
      "source": [
        "#### \\t - tab"
      ]
    },
    {
      "cell_type": "markdown",
      "metadata": {
        "id": "O9lMr7AQOZlt"
      },
      "source": [
        "####  \\\\\\ --backslash"
      ]
    },
    {
      "cell_type": "markdown",
      "metadata": {
        "id": "w2PhXkjyOZlt"
      },
      "source": [
        "#### Since a blackslash may be a part of an escaped by a backslash. this lets you use single quotes freely in a string"
      ]
    },
    {
      "cell_type": "markdown",
      "metadata": {
        "id": "l7Ca7LRkOZlt"
      },
      "source": [
        "#### \\\\' single quote can be escaped by a backslash. This lets you use single quotes freely in a string"
      ]
    },
    {
      "cell_type": "markdown",
      "metadata": {
        "id": "1ELbGtK-OZlt"
      },
      "source": [
        "#### \\\\\" like the single quote, the double quote can be escaped too."
      ]
    },
    {
      "cell_type": "markdown",
      "metadata": {
        "id": "6wM00q7kOZlt"
      },
      "source": [
        "## 10. Python string functions"
      ]
    },
    {
      "cell_type": "markdown",
      "metadata": {
        "id": "Wis9FzDmOZlt"
      },
      "source": [
        "#### Python provides us with a number of functions that we can apply on strings or to create strings"
      ]
    },
    {
      "cell_type": "markdown",
      "metadata": {
        "id": "joWVsm2eOZlt"
      },
      "source": [
        "#### a. len() --> the len() function returns the length of a string."
      ]
    },
    {
      "cell_type": "code",
      "execution_count": null,
      "metadata": {
        "id": "eBZu3_txOZlt"
      },
      "outputs": [],
      "source": [
        "a='book'"
      ]
    },
    {
      "cell_type": "code",
      "execution_count": null,
      "metadata": {
        "id": "zTgHRTIiOZlt",
        "outputId": "ed7599cb-0b35-4de5-fb77-b3f8bd7bed4a"
      },
      "outputs": [
        {
          "data": {
            "text/plain": [
              "4"
            ]
          },
          "execution_count": 44,
          "metadata": {},
          "output_type": "execute_result"
        }
      ],
      "source": [
        "len(a)"
      ]
    },
    {
      "cell_type": "code",
      "execution_count": null,
      "metadata": {
        "id": "fUIIa-0vOZlt",
        "outputId": "59e59f92-bf0e-437d-9350-d88ac6eab27c"
      },
      "outputs": [
        {
          "data": {
            "text/plain": [
              "2"
            ]
          },
          "execution_count": 45,
          "metadata": {},
          "output_type": "execute_result"
        }
      ],
      "source": [
        "len(a[2:])"
      ]
    },
    {
      "cell_type": "markdown",
      "metadata": {
        "id": "K7MHkmViOZlu"
      },
      "source": [
        "#### b. str() --> this function converts any data type into a string"
      ]
    },
    {
      "cell_type": "code",
      "execution_count": null,
      "metadata": {
        "id": "ZZ-typtLOZlu",
        "outputId": "78d75579-7cd1-4155-bf2a-492f2b85c3a6"
      },
      "outputs": [
        {
          "data": {
            "text/plain": [
              "'5'"
            ]
          },
          "execution_count": 46,
          "metadata": {},
          "output_type": "execute_result"
        }
      ],
      "source": [
        "str(2+3)"
      ]
    },
    {
      "cell_type": "code",
      "execution_count": null,
      "metadata": {
        "id": "oMDZiGE5OZlu",
        "outputId": "153ac7af-e535-44b5-8cfa-c3b083c5cd88"
      },
      "outputs": [
        {
          "data": {
            "text/plain": [
              "'(2+3j)'"
            ]
          },
          "execution_count": 47,
          "metadata": {},
          "output_type": "execute_result"
        }
      ],
      "source": [
        "str(2+3j)"
      ]
    },
    {
      "cell_type": "code",
      "execution_count": null,
      "metadata": {
        "id": "03VCbEWHOZlu",
        "outputId": "a869750b-7012-4b8a-e179-ac8fdf98b5df"
      },
      "outputs": [
        {
          "data": {
            "text/plain": [
              "\"['red', 'green', 'blue']\""
            ]
          },
          "execution_count": 48,
          "metadata": {},
          "output_type": "execute_result"
        }
      ],
      "source": [
        "str(['red','green','blue'])"
      ]
    },
    {
      "cell_type": "code",
      "execution_count": null,
      "metadata": {
        "id": "XhenvFXeOZlu",
        "outputId": "f5e552eb-ea44-4580-f9d6-f37c5f6d8052"
      },
      "outputs": [
        {
          "data": {
            "text/plain": [
              "24"
            ]
          },
          "execution_count": 49,
          "metadata": {},
          "output_type": "execute_result"
        }
      ],
      "source": [
        "len(str(['red','green','blue']))"
      ]
    },
    {
      "cell_type": "markdown",
      "metadata": {
        "id": "TWrUQ_qzOZlu"
      },
      "source": [
        "### c. lower() and upper()"
      ]
    },
    {
      "cell_type": "code",
      "execution_count": null,
      "metadata": {
        "id": "Y_tq0UaROZlu"
      },
      "outputs": [],
      "source": [
        "a = 'Book'"
      ]
    },
    {
      "cell_type": "code",
      "execution_count": null,
      "metadata": {
        "id": "LPl3AeQROZlu",
        "outputId": "e94fe6e9-56f6-4edb-bfac-b0f3fbafb814"
      },
      "outputs": [
        {
          "data": {
            "text/plain": [
              "'book'"
            ]
          },
          "execution_count": 51,
          "metadata": {},
          "output_type": "execute_result"
        }
      ],
      "source": [
        "a.lower()"
      ]
    },
    {
      "cell_type": "code",
      "execution_count": null,
      "metadata": {
        "id": "-BssvaXnOZlu",
        "outputId": "1f940f5e-efde-4bf6-8334-c30623c44df2"
      },
      "outputs": [
        {
          "data": {
            "text/plain": [
              "'BOOK'"
            ]
          },
          "execution_count": 52,
          "metadata": {},
          "output_type": "execute_result"
        }
      ],
      "source": [
        "a.upper()"
      ]
    },
    {
      "cell_type": "markdown",
      "metadata": {
        "id": "es1om_VhOZlu"
      },
      "source": [
        "### d. strip() --> removes whitespaces from the begining and end of the string"
      ]
    },
    {
      "cell_type": "code",
      "execution_count": null,
      "metadata": {
        "id": "0ZSHXS5xOZlu"
      },
      "outputs": [],
      "source": [
        "b = '  Book '"
      ]
    },
    {
      "cell_type": "code",
      "execution_count": null,
      "metadata": {
        "id": "AG5ySmuvOZlv",
        "outputId": "4daf46da-27c9-43da-be0e-700e10f41d34"
      },
      "outputs": [
        {
          "data": {
            "text/plain": [
              "'Book'"
            ]
          },
          "execution_count": 54,
          "metadata": {},
          "output_type": "execute_result"
        }
      ],
      "source": [
        "a.strip()"
      ]
    },
    {
      "cell_type": "markdown",
      "metadata": {
        "id": "GCZT8KPmOZlv"
      },
      "source": [
        "### e. isdigit() --> return true if all characters in a string are digits."
      ]
    },
    {
      "cell_type": "code",
      "execution_count": null,
      "metadata": {
        "id": "Sp5I7JMUOZlv"
      },
      "outputs": [],
      "source": [
        "c = '777'"
      ]
    },
    {
      "cell_type": "code",
      "execution_count": null,
      "metadata": {
        "id": "OELX64bkOZlv",
        "outputId": "61af040a-789d-4312-9c7a-161f729e8af2"
      },
      "outputs": [
        {
          "data": {
            "text/plain": [
              "True"
            ]
          },
          "execution_count": 56,
          "metadata": {},
          "output_type": "execute_result"
        }
      ],
      "source": [
        "c.isdigit()"
      ]
    },
    {
      "cell_type": "code",
      "execution_count": null,
      "metadata": {
        "id": "MrwCqGCGOZlv"
      },
      "outputs": [],
      "source": [
        "d = '77a'"
      ]
    },
    {
      "cell_type": "code",
      "execution_count": null,
      "metadata": {
        "id": "8iBfVdQWOZlv",
        "outputId": "eb73232c-738f-4fb6-c0bd-c746b6bd7270"
      },
      "outputs": [
        {
          "data": {
            "text/plain": [
              "False"
            ]
          },
          "execution_count": 58,
          "metadata": {},
          "output_type": "execute_result"
        }
      ],
      "source": [
        "d.isdigit()"
      ]
    },
    {
      "cell_type": "markdown",
      "metadata": {
        "id": "8w0W0Q2HOZlv"
      },
      "source": [
        "### f. isalpha()"
      ]
    },
    {
      "cell_type": "markdown",
      "metadata": {
        "id": "IpR5VEXGOZlv"
      },
      "source": [
        "#### Returns True if all characters in a string are characters from an alphabet."
      ]
    },
    {
      "cell_type": "code",
      "execution_count": null,
      "metadata": {
        "id": "UwT3YUXmOZlv"
      },
      "outputs": [],
      "source": [
        "e= 'abc'"
      ]
    },
    {
      "cell_type": "code",
      "execution_count": null,
      "metadata": {
        "id": "EBn3BnAmOZlv",
        "outputId": "2c9d2fa9-5de1-424a-f344-73b0b104f26c"
      },
      "outputs": [
        {
          "data": {
            "text/plain": [
              "True"
            ]
          },
          "execution_count": 61,
          "metadata": {},
          "output_type": "execute_result"
        }
      ],
      "source": [
        "e.isalpha()"
      ]
    },
    {
      "cell_type": "markdown",
      "metadata": {
        "id": "BQZY3QVMOZlv"
      },
      "source": [
        "### g. isspace()"
      ]
    },
    {
      "cell_type": "markdown",
      "metadata": {
        "id": "9zhhbF4iOZlv"
      },
      "source": [
        "#### Returns True if all characters in a string are spaces."
      ]
    },
    {
      "cell_type": "code",
      "execution_count": null,
      "metadata": {
        "id": "XPO3ugtYOZlv"
      },
      "outputs": [],
      "source": [
        "a = ' '"
      ]
    },
    {
      "cell_type": "code",
      "execution_count": null,
      "metadata": {
        "id": "TChbrRqjOZlv",
        "outputId": "0c3a85cb-57c2-4aa5-b5e9-0a72be825157"
      },
      "outputs": [
        {
          "data": {
            "text/plain": [
              "str"
            ]
          },
          "execution_count": 64,
          "metadata": {},
          "output_type": "execute_result"
        }
      ],
      "source": [
        "type(a)"
      ]
    },
    {
      "cell_type": "code",
      "execution_count": null,
      "metadata": {
        "id": "A3_0A3kdOZlw",
        "outputId": "0e0721e9-054c-4d70-803f-2a69ca1585e7"
      },
      "outputs": [
        {
          "data": {
            "text/plain": [
              "True"
            ]
          },
          "execution_count": 65,
          "metadata": {},
          "output_type": "execute_result"
        }
      ],
      "source": [
        "a.isspace()"
      ]
    },
    {
      "cell_type": "code",
      "execution_count": null,
      "metadata": {
        "id": "KSLwHYCZOZlw",
        "outputId": "c88ab598-a053-4ccc-f3f8-62b782c7e055"
      },
      "outputs": [
        {
          "data": {
            "text/plain": [
              "'777'"
            ]
          },
          "execution_count": 66,
          "metadata": {},
          "output_type": "execute_result"
        }
      ],
      "source": [
        "c"
      ]
    },
    {
      "cell_type": "code",
      "execution_count": null,
      "metadata": {
        "id": "schQ_P03OZlw",
        "outputId": "5058a96f-ea24-40e4-8854-6eee7459b896"
      },
      "outputs": [
        {
          "data": {
            "text/plain": [
              "'77a'"
            ]
          },
          "execution_count": 67,
          "metadata": {},
          "output_type": "execute_result"
        }
      ],
      "source": [
        "d"
      ]
    },
    {
      "cell_type": "code",
      "execution_count": null,
      "metadata": {
        "id": "DHTk4TpzOZlw",
        "outputId": "c901e90b-f12e-496c-d1d5-2239ad553c32"
      },
      "outputs": [
        {
          "data": {
            "text/plain": [
              "'abc'"
            ]
          },
          "execution_count": 68,
          "metadata": {},
          "output_type": "execute_result"
        }
      ],
      "source": [
        "e"
      ]
    },
    {
      "cell_type": "code",
      "execution_count": null,
      "metadata": {
        "id": "-xkfoBG2OZlw"
      },
      "outputs": [],
      "source": [
        "f = 'aaa  '"
      ]
    },
    {
      "cell_type": "code",
      "execution_count": null,
      "metadata": {
        "id": "feJS_kpbOZlw",
        "outputId": "c11f57cc-b426-42dd-8d47-7c1d97499b16"
      },
      "outputs": [
        {
          "data": {
            "text/plain": [
              "False"
            ]
          },
          "execution_count": 71,
          "metadata": {},
          "output_type": "execute_result"
        }
      ],
      "source": [
        "f.isspace()"
      ]
    },
    {
      "cell_type": "markdown",
      "metadata": {
        "id": "bdicED_cOZlw"
      },
      "source": [
        "### h. startswith()"
      ]
    },
    {
      "cell_type": "markdown",
      "metadata": {
        "id": "vuwUNrxiOZlw"
      },
      "source": [
        "#### It takes a string as an argument, and returns True is the string it is applied on begins with the string in the arguments"
      ]
    },
    {
      "cell_type": "code",
      "execution_count": null,
      "metadata": {
        "id": "RJE3kn-bOZlw",
        "outputId": "5b1283ea-6094-41f6-dbd5-b0321e1a4f20"
      },
      "outputs": [
        {
          "data": {
            "text/plain": [
              "True"
            ]
          },
          "execution_count": 76,
          "metadata": {},
          "output_type": "execute_result"
        }
      ],
      "source": [
        "e.startswith('a')"
      ]
    },
    {
      "cell_type": "markdown",
      "metadata": {
        "id": "WKzZ7BSLOZlx"
      },
      "source": [
        "### i. endswith()"
      ]
    },
    {
      "cell_type": "markdown",
      "metadata": {
        "id": "1JIHdDdkOZlx"
      },
      "source": [
        "#### it takes a string as an argument, and returns True if the string it is applied on ends with the string in the arguments"
      ]
    },
    {
      "cell_type": "code",
      "execution_count": null,
      "metadata": {
        "id": "1hQftZ4XOZlx"
      },
      "outputs": [],
      "source": [
        "a='therefore'"
      ]
    },
    {
      "cell_type": "code",
      "execution_count": null,
      "metadata": {
        "id": "B5niulL7OZlx",
        "outputId": "916788e9-1d56-457e-e950-12e4f2fab2ae"
      },
      "outputs": [
        {
          "data": {
            "text/plain": [
              "True"
            ]
          },
          "execution_count": 78,
          "metadata": {},
          "output_type": "execute_result"
        }
      ],
      "source": [
        "a.endswith('fore')"
      ]
    },
    {
      "cell_type": "markdown",
      "metadata": {
        "id": "S6lRxmLqOZlx"
      },
      "source": [
        "### j. find()"
      ]
    },
    {
      "cell_type": "markdown",
      "metadata": {
        "id": "VVEj_-2wOZlx"
      },
      "source": [
        "### it takes an argument and searches for it in the string on which it is applied. it then returns the index of the substring."
      ]
    },
    {
      "cell_type": "code",
      "execution_count": null,
      "metadata": {
        "id": "1uiYxT8sOZlx",
        "outputId": "58361244-bd5c-4584-f5df-3cffb5249df9"
      },
      "outputs": [
        {
          "data": {
            "text/plain": [
              "2"
            ]
          },
          "execution_count": 79,
          "metadata": {},
          "output_type": "execute_result"
        }
      ],
      "source": [
        "'homeowner'.find('meow')"
      ]
    },
    {
      "cell_type": "code",
      "execution_count": null,
      "metadata": {
        "id": "Q8vKQA4kOZlx",
        "outputId": "7e26ede2-7df2-4e8f-ac53-a616677b8f82"
      },
      "outputs": [
        {
          "data": {
            "text/plain": [
              "-1"
            ]
          },
          "execution_count": 82,
          "metadata": {},
          "output_type": "execute_result"
        }
      ],
      "source": [
        "'homeowner'.find('wow')"
      ]
    },
    {
      "cell_type": "markdown",
      "metadata": {
        "id": "Iua1NCo1OZlx"
      },
      "source": [
        "#### if the string doenst exist in the main string, then the index it returns is -1"
      ]
    },
    {
      "cell_type": "markdown",
      "metadata": {
        "id": "PtdxJFMdOZlx"
      },
      "source": [
        "### k . replace()"
      ]
    },
    {
      "cell_type": "markdown",
      "metadata": {
        "id": "OiooECWxOZlx"
      },
      "source": [
        "#### It takes two arguments. the first is the substring to be replaced. The second is the substring to replace with"
      ]
    },
    {
      "cell_type": "code",
      "execution_count": null,
      "metadata": {
        "id": "rMtmIK2iOZlx",
        "outputId": "a5bef484-8ec6-4a09-f8e2-032ee6664bf2"
      },
      "outputs": [
        {
          "data": {
            "text/plain": [
              "'bahaha'"
            ]
          },
          "execution_count": 83,
          "metadata": {},
          "output_type": "execute_result"
        }
      ],
      "source": [
        "'banana'.replace('na','ha')"
      ]
    },
    {
      "cell_type": "markdown",
      "metadata": {
        "id": "Xm7eK-moOZlx"
      },
      "source": [
        "### I split()"
      ]
    },
    {
      "cell_type": "markdown",
      "metadata": {
        "id": "LWkjDlMpOZly"
      },
      "source": [
        "#### It takes one argument. The string is then split around every occurrence of the argument in the string"
      ]
    },
    {
      "cell_type": "code",
      "execution_count": null,
      "metadata": {
        "id": "2Y5qG05iOZly",
        "outputId": "63e67d63-324e-4c92-a1bb-6ff5df0a2e80"
      },
      "outputs": [
        {
          "data": {
            "text/plain": [
              "['No', ' Okay', ' Why?']"
            ]
          },
          "execution_count": 85,
          "metadata": {},
          "output_type": "execute_result"
        }
      ],
      "source": [
        "'No. Okay. Why?'.split('.')"
      ]
    },
    {
      "cell_type": "code",
      "execution_count": null,
      "metadata": {
        "id": "8HY3EbVgOZly"
      },
      "outputs": [],
      "source": [
        "values = 'No. Okay. Why?'"
      ]
    },
    {
      "cell_type": "code",
      "execution_count": null,
      "metadata": {
        "id": "T7Lt_s9kOZly",
        "outputId": "19a9ddc0-d533-46fe-9770-e5f2c55956c8"
      },
      "outputs": [
        {
          "data": {
            "text/plain": [
              "str"
            ]
          },
          "execution_count": 5,
          "metadata": {},
          "output_type": "execute_result"
        }
      ],
      "source": [
        "type(values)"
      ]
    },
    {
      "cell_type": "code",
      "execution_count": null,
      "metadata": {
        "id": "3f6CJhQKOZly"
      },
      "outputs": [],
      "source": [
        "new_values = values.split('.')"
      ]
    },
    {
      "cell_type": "code",
      "execution_count": null,
      "metadata": {
        "id": "yeUpd9gmOZly",
        "outputId": "b7a98423-a4e8-45e6-aacf-0b4bdd43c7f8"
      },
      "outputs": [
        {
          "data": {
            "text/plain": [
              "['No', ' Okay', ' Why?']"
            ]
          },
          "execution_count": 3,
          "metadata": {},
          "output_type": "execute_result"
        }
      ],
      "source": [
        "new_values"
      ]
    },
    {
      "cell_type": "code",
      "execution_count": null,
      "metadata": {
        "id": "IuqcvlepOZly",
        "outputId": "bc762cee-10d4-4138-e524-19e03e7f235d"
      },
      "outputs": [
        {
          "data": {
            "text/plain": [
              "list"
            ]
          },
          "execution_count": 4,
          "metadata": {},
          "output_type": "execute_result"
        }
      ],
      "source": [
        "type(new_values)"
      ]
    },
    {
      "cell_type": "markdown",
      "metadata": {
        "id": "XGfVj6oiOZly"
      },
      "source": [
        "### m. Join()"
      ]
    },
    {
      "cell_type": "markdown",
      "metadata": {
        "id": "HnoRv0NFOZly"
      },
      "source": [
        "#### It takes a list as an argument and joins the elements in the list using the string it is applied on"
      ]
    },
    {
      "cell_type": "code",
      "execution_count": null,
      "metadata": {
        "id": "qY1eoXS7OZly",
        "outputId": "76b38694-99f3-4f46-b259-f9496666cd31"
      },
      "outputs": [
        {
          "data": {
            "text/plain": [
              "'red*green*blue'"
            ]
          },
          "execution_count": 86,
          "metadata": {},
          "output_type": "execute_result"
        }
      ],
      "source": [
        "\"*\".join(['red','green','blue'])"
      ]
    },
    {
      "cell_type": "code",
      "execution_count": null,
      "metadata": {
        "id": "UPKAvRmlOZly",
        "outputId": "772a4630-2673-4bd3-e098-c4b5ceb4e1f0"
      },
      "outputs": [
        {
          "data": {
            "text/plain": [
              "'r*e*d'"
            ]
          },
          "execution_count": 87,
          "metadata": {},
          "output_type": "execute_result"
        }
      ],
      "source": [
        "\"*\".join('red')"
      ]
    },
    {
      "cell_type": "code",
      "execution_count": null,
      "metadata": {
        "id": "aPbps2U9OZlz",
        "outputId": "0f72b0fb-cf91-4104-8265-94a1d35da070"
      },
      "outputs": [
        {
          "data": {
            "text/plain": [
              "'r*e*d'"
            ]
          },
          "execution_count": 88,
          "metadata": {},
          "output_type": "execute_result"
        }
      ],
      "source": [
        "\"*\".join(\"red\")"
      ]
    },
    {
      "cell_type": "markdown",
      "metadata": {
        "id": "BtuxJPYSOZlz"
      },
      "source": [
        "## 11 . Python String Operations"
      ]
    },
    {
      "cell_type": "markdown",
      "metadata": {
        "id": "yW96o73-OZlz"
      },
      "source": [
        "### a.  Comparison"
      ]
    },
    {
      "cell_type": "code",
      "execution_count": null,
      "metadata": {
        "id": "7UkBfyOwOZlz",
        "outputId": "7d61945e-8a30-40d5-84a9-26f664d642da"
      },
      "outputs": [
        {
          "data": {
            "text/plain": [
              "True"
            ]
          },
          "execution_count": 89,
          "metadata": {},
          "output_type": "execute_result"
        }
      ],
      "source": [
        "'hey'<'hi'"
      ]
    },
    {
      "cell_type": "markdown",
      "metadata": {
        "id": "guaPpayNOZlz"
      },
      "source": [
        "#### 'hey' is lesser than 'hi' lexicographically (because I comes after e in the dictionary)"
      ]
    },
    {
      "cell_type": "code",
      "execution_count": null,
      "metadata": {
        "id": "VN3EfkhvOZlz"
      },
      "outputs": [],
      "source": [
        "a='check'"
      ]
    },
    {
      "cell_type": "code",
      "execution_count": null,
      "metadata": {
        "id": "jbufCDD6OZlz",
        "outputId": "fe20270a-dd36-437d-9011-23180b01735d"
      },
      "outputs": [
        {
          "data": {
            "text/plain": [
              "True"
            ]
          },
          "execution_count": 91,
          "metadata": {},
          "output_type": "execute_result"
        }
      ],
      "source": [
        "a=='check'"
      ]
    },
    {
      "cell_type": "code",
      "execution_count": null,
      "metadata": {
        "id": "CA7yNwzDOZlz",
        "outputId": "87c4e302-58a3-4da7-c2b2-ad5de615d1bd"
      },
      "outputs": [
        {
          "data": {
            "text/plain": [
              "True"
            ]
          },
          "execution_count": 92,
          "metadata": {},
          "output_type": "execute_result"
        }
      ],
      "source": [
        "'yes' !='no'"
      ]
    },
    {
      "cell_type": "markdown",
      "metadata": {
        "id": "-xidFWm3OZlz"
      },
      "source": [
        "### b. Arithmetic"
      ]
    },
    {
      "cell_type": "markdown",
      "metadata": {
        "id": "luru2s0cOZlz"
      },
      "source": [
        "#### Some arithmetic operations can be applied on strings"
      ]
    },
    {
      "cell_type": "code",
      "execution_count": null,
      "metadata": {
        "id": "UyKgZoKNOZlz",
        "outputId": "e4f1b928-3182-4a8b-a529-68385dedcfa2"
      },
      "outputs": [
        {
          "data": {
            "text/plain": [
              "'banana'"
            ]
          },
          "execution_count": 93,
          "metadata": {},
          "output_type": "execute_result"
        }
      ],
      "source": [
        "'ba'+'na'*2"
      ]
    },
    {
      "cell_type": "code",
      "execution_count": null,
      "metadata": {
        "id": "9HM3ZnQLOZl0",
        "outputId": "8e31b552-ff45-4c18-fca9-457e07b0aed7"
      },
      "outputs": [
        {
          "data": {
            "text/plain": [
              "False"
            ]
          },
          "execution_count": 94,
          "metadata": {},
          "output_type": "execute_result"
        }
      ],
      "source": [
        "'less' not in 'helpless'"
      ]
    },
    {
      "cell_type": "code",
      "execution_count": null,
      "metadata": {
        "id": "3Ws2qt_-OZl0",
        "outputId": "0645f15e-09cc-41e6-ea3d-a1c993742e91"
      },
      "outputs": [
        {
          "data": {
            "text/plain": [
              "True"
            ]
          },
          "execution_count": 95,
          "metadata": {},
          "output_type": "execute_result"
        }
      ],
      "source": [
        "'less' in 'helpless'"
      ]
    },
    {
      "cell_type": "markdown",
      "metadata": {
        "id": "RIoiERcLOZl0"
      },
      "source": [
        "### d. Identify"
      ]
    },
    {
      "cell_type": "markdown",
      "metadata": {
        "id": "RbXYWwQFOZl0"
      },
      "source": [
        "#### Python's identify operators 'is' and 'is not' can be used on strings"
      ]
    },
    {
      "cell_type": "code",
      "execution_count": null,
      "metadata": {
        "id": "dlIbJh_NOZl0",
        "outputId": "09541f77-e282-45d2-caa7-5318e8ff0892"
      },
      "outputs": [
        {
          "data": {
            "text/plain": [
              "False"
            ]
          },
          "execution_count": 96,
          "metadata": {},
          "output_type": "execute_result"
        }
      ],
      "source": [
        "'hey' is 'hi'"
      ]
    },
    {
      "cell_type": "code",
      "execution_count": null,
      "metadata": {
        "id": "TDULCVSrOZl0",
        "outputId": "8af198f5-4caf-4232-917c-f9ed8cbc2935"
      },
      "outputs": [
        {
          "data": {
            "text/plain": [
              "False"
            ]
          },
          "execution_count": 97,
          "metadata": {},
          "output_type": "execute_result"
        }
      ],
      "source": [
        "'him' is 'hi'"
      ]
    },
    {
      "cell_type": "code",
      "execution_count": null,
      "metadata": {
        "id": "AUZvxdH7OZl0",
        "outputId": "ffc0666c-1ffa-491c-d9ff-57a23a4c5dbc"
      },
      "outputs": [
        {
          "data": {
            "text/plain": [
              "True"
            ]
          },
          "execution_count": 98,
          "metadata": {},
          "output_type": "execute_result"
        }
      ],
      "source": [
        "'Yo' is not 'yo'"
      ]
    },
    {
      "cell_type": "code",
      "execution_count": null,
      "metadata": {
        "id": "JyG_vZtTOZl0",
        "outputId": "6d7c77b5-2f6d-4e0f-f6a4-7d8dde6c34dd"
      },
      "outputs": [
        {
          "data": {
            "text/plain": [
              "True"
            ]
          },
          "execution_count": 99,
          "metadata": {},
          "output_type": "execute_result"
        }
      ],
      "source": [
        "'Manish' is 'Manish'"
      ]
    },
    {
      "cell_type": "markdown",
      "metadata": {
        "id": "IdBPUjCaOZl0"
      },
      "source": [
        "### e. Logical"
      ]
    },
    {
      "cell_type": "markdown",
      "metadata": {
        "id": "WypFx4sBOZl0"
      },
      "source": [
        "#### And, or, and not operators can be applied too."
      ]
    },
    {
      "cell_type": "markdown",
      "metadata": {
        "id": "wfHgJsA7OZl0"
      },
      "source": [
        "#### and --> if the value on the left is true it returns the value on the right. Otherwise, the value on the left is false, it return False"
      ]
    },
    {
      "cell_type": "code",
      "execution_count": null,
      "metadata": {
        "id": "kOzrd1qqOZl0",
        "outputId": "14320095-63d1-435d-f0cf-92cf2fab26a2"
      },
      "outputs": [
        {
          "data": {
            "text/plain": [
              "''"
            ]
          },
          "execution_count": 100,
          "metadata": {},
          "output_type": "execute_result"
        }
      ],
      "source": [
        "'' and '1'"
      ]
    },
    {
      "cell_type": "code",
      "execution_count": null,
      "metadata": {
        "id": "oufLSaSwOZl0",
        "outputId": "917fa102-c2c4-4776-9aa2-5db5bf66d33a"
      },
      "outputs": [
        {
          "data": {
            "text/plain": [
              "''"
            ]
          },
          "execution_count": 101,
          "metadata": {},
          "output_type": "execute_result"
        }
      ],
      "source": [
        "'1' and ''"
      ]
    },
    {
      "cell_type": "code",
      "execution_count": null,
      "metadata": {
        "id": "uudNsVU8OZl1",
        "outputId": "56a4113e-cad7-4039-fb29-01f0751fc4d0"
      },
      "outputs": [
        {
          "data": {
            "text/plain": [
              "''"
            ]
          },
          "execution_count": 102,
          "metadata": {},
          "output_type": "execute_result"
        }
      ],
      "source": [
        "'' and ''"
      ]
    },
    {
      "cell_type": "code",
      "execution_count": null,
      "metadata": {
        "id": "5z4TM-uaOZl1",
        "outputId": "b82fdce4-5b99-422e-a83e-a80be7cb5087"
      },
      "outputs": [
        {
          "data": {
            "text/plain": [
              "'2'"
            ]
          },
          "execution_count": 103,
          "metadata": {},
          "output_type": "execute_result"
        }
      ],
      "source": [
        "'1' and '2'"
      ]
    },
    {
      "cell_type": "code",
      "execution_count": null,
      "metadata": {
        "id": "m4mZjWDeOZl1",
        "outputId": "ec2a8bcc-5bac-4eab-fe71-6707829ca243"
      },
      "outputs": [
        {
          "data": {
            "text/plain": [
              "'1'"
            ]
          },
          "execution_count": 104,
          "metadata": {},
          "output_type": "execute_result"
        }
      ],
      "source": [
        "'1' and '1'"
      ]
    },
    {
      "cell_type": "code",
      "execution_count": null,
      "metadata": {
        "id": "ZcnlF5SkOZl1",
        "outputId": "2b6d6294-5fa8-4ca8-a8e1-01f6cbae1092"
      },
      "outputs": [
        {
          "data": {
            "text/plain": [
              "'1'"
            ]
          },
          "execution_count": 105,
          "metadata": {},
          "output_type": "execute_result"
        }
      ],
      "source": [
        "'2' and '1'"
      ]
    },
    {
      "cell_type": "code",
      "execution_count": null,
      "metadata": {
        "id": "Tlz7HJy5OZl1",
        "outputId": "a84009be-4241-459a-f8a6-3e25812a8ff6"
      },
      "outputs": [
        {
          "data": {
            "text/plain": [
              "'1'"
            ]
          },
          "execution_count": 106,
          "metadata": {},
          "output_type": "execute_result"
        }
      ],
      "source": [
        "'q' and '1'"
      ]
    },
    {
      "cell_type": "code",
      "execution_count": null,
      "metadata": {
        "id": "CFYBpQvTOZl1",
        "outputId": "6a970ca1-d527-4319-a931-857e1f18c076"
      },
      "outputs": [
        {
          "data": {
            "text/plain": [
              "'  Book '"
            ]
          },
          "execution_count": 107,
          "metadata": {},
          "output_type": "execute_result"
        }
      ],
      "source": [
        "a and b"
      ]
    },
    {
      "cell_type": "code",
      "execution_count": null,
      "metadata": {
        "id": "PdvhmDUrOZl1",
        "outputId": "7a1454fe-f359-409a-9439-1997bd545805"
      },
      "outputs": [
        {
          "data": {
            "text/plain": [
              "'check'"
            ]
          },
          "execution_count": 108,
          "metadata": {},
          "output_type": "execute_result"
        }
      ],
      "source": [
        "a"
      ]
    },
    {
      "cell_type": "code",
      "execution_count": null,
      "metadata": {
        "id": "p9RRxq7LOZl1",
        "outputId": "5644fabf-71e0-4b09-f5c1-a7f046164584"
      },
      "outputs": [
        {
          "data": {
            "text/plain": [
              "'  Book '"
            ]
          },
          "execution_count": 109,
          "metadata": {},
          "output_type": "execute_result"
        }
      ],
      "source": [
        "b"
      ]
    },
    {
      "cell_type": "markdown",
      "metadata": {
        "id": "QPN5xaLkOZl2"
      },
      "source": [
        "#### 2. or - if the value on the left is True, it return True . Otherwise, the value on the right is returned."
      ]
    },
    {
      "cell_type": "markdown",
      "metadata": {
        "id": "zjIAkaNgOZl2"
      },
      "source": [
        "#### 3. not - As we said earlier , an empty string has a Boolean value of False"
      ]
    },
    {
      "cell_type": "code",
      "execution_count": null,
      "metadata": {
        "id": "7zj6G_pAOZl2",
        "outputId": "93b6de3d-b5c6-4748-a840-22c88a397d7d"
      },
      "outputs": [
        {
          "data": {
            "text/plain": [
              "False"
            ]
          },
          "execution_count": 110,
          "metadata": {},
          "output_type": "execute_result"
        }
      ],
      "source": [
        "not('1')"
      ]
    },
    {
      "cell_type": "code",
      "execution_count": null,
      "metadata": {
        "id": "CpGU734rOZl2",
        "outputId": "f964d6c3-6eea-4fc6-9b12-239dbcd39823"
      },
      "outputs": [
        {
          "data": {
            "text/plain": [
              "True"
            ]
          },
          "execution_count": 111,
          "metadata": {},
          "output_type": "execute_result"
        }
      ],
      "source": [
        "not('')"
      ]
    },
    {
      "cell_type": "code",
      "execution_count": null,
      "metadata": {
        "id": "_aYuSGznOZl2"
      },
      "outputs": [],
      "source": []
    }
  ],
  "metadata": {
    "kernelspec": {
      "display_name": "Python 3",
      "language": "python",
      "name": "python3"
    },
    "language_info": {
      "codemirror_mode": {
        "name": "ipython",
        "version": 3
      },
      "file_extension": ".py",
      "mimetype": "text/x-python",
      "name": "python",
      "nbconvert_exporter": "python",
      "pygments_lexer": "ipython3",
      "version": "3.7.4"
    },
    "colab": {
      "provenance": [],
      "include_colab_link": true
    }
  },
  "nbformat": 4,
  "nbformat_minor": 0
}
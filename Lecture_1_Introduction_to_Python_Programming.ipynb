{
  "cells": [
    {
      "cell_type": "markdown",
      "metadata": {
        "id": "view-in-github",
        "colab_type": "text"
      },
      "source": [
        "<a href=\"https://colab.research.google.com/github/udayameister/PythonTrainingProgramme/blob/main/Lecture_1_Introduction_to_Python_Programming.ipynb\" target=\"_parent\"><img src=\"https://colab.research.google.com/assets/colab-badge.svg\" alt=\"Open In Colab\"/></a>"
      ]
    },
    {
      "cell_type": "markdown",
      "metadata": {
        "id": "9nioBFC-qIGL"
      },
      "source": [
        "# Introduction to Python programming"
      ]
    },
    {
      "cell_type": "markdown",
      "metadata": {
        "id": "gow0lQ-2qIGM"
      },
      "source": [
        "\n",
        "\n",
        "```\n",
        "# This is formatted as code\n",
        "```\n",
        "\n",
        "**Udayakumar Palanivelu** (udayameister at gmail.com)\n",
        "\n",
        "The latest version of this [IPython notebook](http://ipython.org/notebook.html) lecture is available at [https://github.com/udayameister/PythonTrainingProgramme](https://github.com/udayameister/PythonTrainingProgramme).\n",
        "\n",
        "The other notebooks in this lecture series are indexed at [https://github.com/udayameister](https://github.com/udayameister)."
      ]
    },
    {
      "cell_type": "markdown",
      "metadata": {
        "id": "NIVaxToqqIGM"
      },
      "source": [
        "## Python program files"
      ]
    },
    {
      "cell_type": "markdown",
      "metadata": {
        "id": "FZ6d3QV1qIGM"
      },
      "source": [
        "* Python code is usually stored in text files with the file ending \"`.py`\":\n",
        "\n",
        "        myprogram.py\n",
        "\n",
        "* Every line in a Python program file is assumed to be a Python statement, or part thereof.\n",
        "\n",
        "    * The only exception is comment lines, which start with the character `#` (optionally preceded by an arbitrary number of white-space characters, i.e., tabs or spaces). Comment lines are usually ignored by the Python interpreter.\n",
        "\n",
        "\n",
        "* To run our Python program from the command line we use:\n",
        "\n",
        "        $ python myprogram.py\n",
        "\n",
        "* On UNIX systems it is common to define the path to the interpreter on the first line of the program (note that this is a comment line as far as the Python interpreter is concerned):\n",
        "\n",
        "        #!/usr/bin/env python\n",
        "\n",
        "  If we do, and if we additionally set the file script to be executable, we can run the program like this:\n",
        "\n",
        "        $ myprogram.py"
      ]
    },
    {
      "cell_type": "markdown",
      "metadata": {
        "id": "GxE3I-vWqIGN"
      },
      "source": [
        "### Example:"
      ]
    },
    {
      "cell_type": "code",
      "execution_count": null,
      "metadata": {
        "id": "WFmPNEsbqIGN",
        "outputId": "f9efc1bb-02b4-469f-e463-f014971f6b80"
      },
      "outputs": [
        {
          "name": "stdout",
          "output_type": "stream",
          "text": [
            "scripts/hello-world-in-swedish.py  scripts/hello-world.py\r\n"
          ]
        }
      ],
      "source": [
        "ls scripts/hello-world*.py"
      ]
    },
    {
      "cell_type": "code",
      "execution_count": null,
      "metadata": {
        "id": "43jjINIFqIGO",
        "outputId": "8eb3f250-7fc0-4791-86eb-0919d4cb0332"
      },
      "outputs": [
        {
          "name": "stdout",
          "output_type": "stream",
          "text": [
            "#!/usr/bin/env python\r\n",
            "\r\n",
            "print(\"Hello world!\")\r\n"
          ]
        }
      ],
      "source": [
        "cat scripts/hello-world.py"
      ]
    },
    {
      "cell_type": "code",
      "execution_count": null,
      "metadata": {
        "id": "MInphUgfqIGO",
        "outputId": "f641e2e4-0846-4477-b4af-893286a1b25b"
      },
      "outputs": [
        {
          "name": "stdout",
          "output_type": "stream",
          "text": [
            "Hello world!\r\n"
          ]
        }
      ],
      "source": [
        "!python scripts/hello-world.py"
      ]
    },
    {
      "cell_type": "markdown",
      "metadata": {
        "id": "Ytr9__tVqIGO"
      },
      "source": [
        "### Character encoding"
      ]
    },
    {
      "cell_type": "markdown",
      "metadata": {
        "id": "-G7JqWYOqIGO"
      },
      "source": [
        "The standard character encoding is ASCII, but we can use any other encoding, for example UTF-8. To specify that UTF-8 is used we include the special line\n",
        "\n",
        "    # -*- coding: UTF-8 -*-\n",
        "\n",
        "at the top of the file."
      ]
    },
    {
      "cell_type": "code",
      "execution_count": null,
      "metadata": {
        "id": "KWF8H1lLqIGO",
        "outputId": "cae92e00-376c-40d1-b95f-aee3fbcc00ce"
      },
      "outputs": [
        {
          "name": "stdout",
          "output_type": "stream",
          "text": [
            "#!/usr/bin/env python\r\n",
            "# -*- coding: UTF-8 -*-\r\n",
            "\r\n",
            "print(\"Hej världen!\")\r\n"
          ]
        }
      ],
      "source": [
        "cat scripts/hello-world-in-swedish.py"
      ]
    },
    {
      "cell_type": "code",
      "execution_count": null,
      "metadata": {
        "id": "R8WFJAN7qIGO",
        "outputId": "e0df483f-23b8-4071-cda9-bbb04c796c13"
      },
      "outputs": [
        {
          "name": "stdout",
          "output_type": "stream",
          "text": [
            "Hej världen!\r\n"
          ]
        }
      ],
      "source": [
        "!python scripts/hello-world-in-swedish.py"
      ]
    },
    {
      "cell_type": "markdown",
      "metadata": {
        "id": "DXd3KhDEqIGO"
      },
      "source": [
        "Other than these two *optional* lines in the beginning of a Python code file, no additional code is required for initializing a program."
      ]
    },
    {
      "cell_type": "markdown",
      "metadata": {
        "id": "GE4NeiXZqIGO"
      },
      "source": [
        "## IPython notebooks"
      ]
    },
    {
      "cell_type": "markdown",
      "metadata": {
        "id": "mOzksS8OqIGO"
      },
      "source": [
        "This file - an IPython notebook -  does not follow the standard pattern with Python code in a text file. Instead, an IPython notebook is stored as a file in the [JSON](http://en.wikipedia.org/wiki/JSON) format. The advantage is that we can mix formatted text, Python code and code output. It requires the IPython notebook server to run it though, and therefore isn't a stand-alone Python program as described above. Other than that, there is no difference between the Python code that goes into a program file or an IPython notebook."
      ]
    },
    {
      "cell_type": "markdown",
      "metadata": {
        "id": "IA-UCofIqIGP"
      },
      "source": [
        "## Modules"
      ]
    },
    {
      "cell_type": "markdown",
      "metadata": {
        "id": "mPHynoiZqIGP"
      },
      "source": [
        "Most of the functionality in Python is provided by *modules*. The Python Standard Library is a large collection of modules that provides *cross-platform* implementations of common facilities such as access to the operating system, file I/O, string management, network communication, and much more."
      ]
    },
    {
      "cell_type": "markdown",
      "metadata": {
        "id": "OsdBdyIIqIGP"
      },
      "source": [
        "### References"
      ]
    },
    {
      "cell_type": "markdown",
      "metadata": {
        "id": "D6ojYv9MqIGP"
      },
      "source": [
        " * The Python Language Reference: http://docs.python.org/2/reference/index.html\n",
        " * The Python Standard Library: http://docs.python.org/2/library/\n",
        "\n",
        "To use a module in a Python program it first has to be imported. A module can be imported using the `import` statement. For example, to import the module `math`, which contains many standard mathematical functions, we can do:"
      ]
    },
    {
      "cell_type": "code",
      "execution_count": null,
      "metadata": {
        "id": "e0lHmcqyqIGP"
      },
      "outputs": [],
      "source": [
        "import math"
      ]
    },
    {
      "cell_type": "markdown",
      "metadata": {
        "id": "FuviUHleqIGP"
      },
      "source": [
        "This includes the whole module and makes it available for use later in the program. For example, we can do:"
      ]
    },
    {
      "cell_type": "code",
      "execution_count": null,
      "metadata": {
        "colab": {
          "base_uri": "https://localhost:8080/"
        },
        "id": "iYJaxfzyqIGP",
        "outputId": "f88b930e-ecd6-4aeb-ae40-92ced8f705c9"
      },
      "outputs": [
        {
          "output_type": "stream",
          "name": "stdout",
          "text": [
            "1.0\n"
          ]
        }
      ],
      "source": [
        "import math\n",
        "\n",
        "x = math.cos(2 * math.pi)\n",
        "\n",
        "print(x)"
      ]
    },
    {
      "cell_type": "markdown",
      "metadata": {
        "id": "mhHAfoh8qIGP"
      },
      "source": [
        "Alternatively, we can choose to import all symbols (functions and variables) in a module to the current namespace so that we don't need to use the prefix \"`math.`\" every time we use something from the `math` module:"
      ]
    },
    {
      "cell_type": "code",
      "execution_count": null,
      "metadata": {
        "colab": {
          "base_uri": "https://localhost:8080/"
        },
        "id": "YUthq8kLqIGP",
        "outputId": "db5e792e-798b-4ab1-a6cc-376b417141c4"
      },
      "outputs": [
        {
          "output_type": "stream",
          "name": "stdout",
          "text": [
            "1.0\n"
          ]
        }
      ],
      "source": [
        "from math import *\n",
        "\n",
        "x = cos(2 * pi)\n",
        "\n",
        "print(x)"
      ]
    },
    {
      "cell_type": "markdown",
      "metadata": {
        "id": "BOE0b7gyqIGP"
      },
      "source": [
        "This pattern can be very convenient, but in large programs that include many modules it is often a good idea to keep the symbols from each module in their own namespaces, by using the `import math` pattern. This would eliminate potentially confusing problems with name space collisions.\n",
        "\n",
        "As a third alternative, we can choose to import only a few selected symbols from a module by explicitly listing which ones we want to import instead of using the wildcard character `*`:"
      ]
    },
    {
      "cell_type": "code",
      "execution_count": null,
      "metadata": {
        "colab": {
          "base_uri": "https://localhost:8080/"
        },
        "id": "ikjMsAmfqIGP",
        "outputId": "4547e699-7711-4408-bcb9-f04caeda430e"
      },
      "outputs": [
        {
          "output_type": "stream",
          "name": "stdout",
          "text": [
            "1.0\n"
          ]
        }
      ],
      "source": [
        "from math import cos, pi\n",
        "\n",
        "x = cos(2 * pi)\n",
        "\n",
        "print(x)"
      ]
    },
    {
      "cell_type": "markdown",
      "metadata": {
        "id": "TqbaUgXAqIGP"
      },
      "source": [
        "### Looking at what a module contains, and its documentation"
      ]
    },
    {
      "cell_type": "markdown",
      "metadata": {
        "id": "0TlBbNV1qIGP"
      },
      "source": [
        "Once a module is imported, we can list the symbols it provides using the `dir` function:"
      ]
    },
    {
      "cell_type": "code",
      "execution_count": null,
      "metadata": {
        "colab": {
          "base_uri": "https://localhost:8080/"
        },
        "id": "sSjrVpKtqIGQ",
        "outputId": "e9574c9a-da64-4596-898e-1e5c02a260a0"
      },
      "outputs": [
        {
          "output_type": "stream",
          "name": "stdout",
          "text": [
            "['__doc__', '__loader__', '__name__', '__package__', '__spec__', 'acos', 'acosh', 'asin', 'asinh', 'atan', 'atan2', 'atanh', 'ceil', 'comb', 'copysign', 'cos', 'cosh', 'degrees', 'dist', 'e', 'erf', 'erfc', 'exp', 'expm1', 'fabs', 'factorial', 'floor', 'fmod', 'frexp', 'fsum', 'gamma', 'gcd', 'hypot', 'inf', 'isclose', 'isfinite', 'isinf', 'isnan', 'isqrt', 'lcm', 'ldexp', 'lgamma', 'log', 'log10', 'log1p', 'log2', 'modf', 'nan', 'nextafter', 'perm', 'pi', 'pow', 'prod', 'radians', 'remainder', 'sin', 'sinh', 'sqrt', 'tan', 'tanh', 'tau', 'trunc', 'ulp']\n"
          ]
        }
      ],
      "source": [
        "import math\n",
        "\n",
        "print(dir(math))"
      ]
    },
    {
      "cell_type": "markdown",
      "metadata": {
        "id": "MjlJ8DPdqIGQ"
      },
      "source": [
        "And using the function `help` we can get a description of each function (almost .. not all functions have docstrings, as they are technically called, but the vast majority of functions are documented this way)."
      ]
    },
    {
      "cell_type": "code",
      "execution_count": null,
      "metadata": {
        "colab": {
          "base_uri": "https://localhost:8080/"
        },
        "id": "MJNSrrL7qIGQ",
        "outputId": "201a62ed-73c0-4b84-df69-7178358fa5ae"
      },
      "outputs": [
        {
          "output_type": "stream",
          "name": "stdout",
          "text": [
            "Help on built-in function log in module math:\n",
            "\n",
            "log(...)\n",
            "    log(x, [base=math.e])\n",
            "    Return the logarithm of x to the given base.\n",
            "    \n",
            "    If the base not specified, returns the natural logarithm (base e) of x.\n",
            "\n"
          ]
        }
      ],
      "source": [
        "help(math.log)"
      ]
    },
    {
      "cell_type": "code",
      "execution_count": null,
      "metadata": {
        "id": "b7gsmSUBqIGQ",
        "outputId": "14949fcd-5446-425b-cc1f-748d36539942"
      },
      "outputs": [
        {
          "data": {
            "text/plain": [
              "2.302585092994046"
            ]
          },
          "execution_count": 12,
          "metadata": {},
          "output_type": "execute_result"
        }
      ],
      "source": [
        "log(10)"
      ]
    },
    {
      "cell_type": "code",
      "execution_count": null,
      "metadata": {
        "id": "__manGq5qIGQ",
        "outputId": "d84ecf27-d1f2-4742-8a3f-7d485a82808d"
      },
      "outputs": [
        {
          "data": {
            "text/plain": [
              "3.3219280948873626"
            ]
          },
          "execution_count": 13,
          "metadata": {},
          "output_type": "execute_result"
        }
      ],
      "source": [
        "log(10, 2)"
      ]
    },
    {
      "cell_type": "markdown",
      "metadata": {
        "id": "-Nqc9DhZqIGQ"
      },
      "source": [
        "We can also use the `help` function directly on modules: Try\n",
        "\n",
        "    help(math)\n",
        "\n",
        "Some very useful modules form the Python standard library are `os`, `sys`, `math`, `shutil`, `re`, `subprocess`, `multiprocessing`, `threading`.\n",
        "\n",
        "A complete lists of standard modules for Python 2 and Python 3 are available at http://docs.python.org/2/library/ and http://docs.python.org/3/library/, respectively."
      ]
    },
    {
      "cell_type": "markdown",
      "metadata": {
        "id": "5cOKuvk5qIGQ"
      },
      "source": [
        "## Variables and types"
      ]
    },
    {
      "cell_type": "markdown",
      "metadata": {
        "id": "F6CktQadqIGQ"
      },
      "source": [
        "### Symbol names"
      ]
    },
    {
      "cell_type": "markdown",
      "metadata": {
        "id": "FrF9KcwNqIGQ"
      },
      "source": [
        "Variable names in Python can contain alphanumerical characters `a-z`, `A-Z`, `0-9` and some special characters such as `_`. Normal variable names must start with a letter.\n",
        "\n",
        "By convention, variable names start with a lower-case letter, and Class names start with a capital letter.\n",
        "\n",
        "In addition, there are a number of Python keywords that cannot be used as variable names. These keywords are:\n",
        "\n",
        "    and, as, assert, break, class, continue, def, del, elif, else, except,\n",
        "    exec, finally, for, from, global, if, import, in, is, lambda, not, or,\n",
        "    pass, print, raise, return, try, while, with, yield\n",
        "\n",
        "Note: Be aware of the keyword `lambda`, which could easily be a natural variable name in a scientific program. But being a keyword, it cannot be used as a variable name."
      ]
    },
    {
      "cell_type": "markdown",
      "metadata": {
        "id": "NvEAWNt4qIGQ"
      },
      "source": [
        "### Assignment"
      ]
    },
    {
      "cell_type": "markdown",
      "metadata": {
        "id": "suyTLR-8qIGQ"
      },
      "source": [
        "\n",
        "\n",
        "The assignment operator in Python is `=`. Python is a dynamically typed language, so we do not need to specify the type of a variable when we create one.\n",
        "\n",
        "Assigning a value to a new variable creates the variable:"
      ]
    },
    {
      "cell_type": "code",
      "execution_count": null,
      "metadata": {
        "id": "Rtmd4b1_qIGU"
      },
      "outputs": [],
      "source": [
        "# variable assignments\n",
        "x = 1.0\n",
        "my_variable = 12.2"
      ]
    },
    {
      "cell_type": "markdown",
      "metadata": {
        "id": "B3LjVjY9qIGU"
      },
      "source": [
        "Although not explicitly specified, a variable does have a type associated with it. The type is derived from the value that was assigned to it."
      ]
    },
    {
      "cell_type": "code",
      "execution_count": null,
      "metadata": {
        "colab": {
          "base_uri": "https://localhost:8080/"
        },
        "id": "yEmxocZhqIGU",
        "outputId": "22767793-243b-41b2-adda-1dd837701a0b"
      },
      "outputs": [
        {
          "output_type": "execute_result",
          "data": {
            "text/plain": [
              "float"
            ]
          },
          "metadata": {},
          "execution_count": 9
        }
      ],
      "source": [
        "type(x)"
      ]
    },
    {
      "cell_type": "markdown",
      "metadata": {
        "id": "oqooGx5qqIGU"
      },
      "source": [
        "If we assign a new value to a variable, its type can change."
      ]
    },
    {
      "cell_type": "code",
      "execution_count": null,
      "metadata": {
        "id": "fOKqa6tIqIGU"
      },
      "outputs": [],
      "source": [
        "x = 1"
      ]
    },
    {
      "cell_type": "code",
      "execution_count": null,
      "metadata": {
        "colab": {
          "base_uri": "https://localhost:8080/"
        },
        "id": "u0e1IXHzqIGV",
        "outputId": "dc5a11bb-f845-494d-d4a4-dfcf7fa99a15"
      },
      "outputs": [
        {
          "output_type": "execute_result",
          "data": {
            "text/plain": [
              "int"
            ]
          },
          "metadata": {},
          "execution_count": 11
        }
      ],
      "source": [
        "type(x)"
      ]
    },
    {
      "cell_type": "markdown",
      "metadata": {
        "id": "7YYYL9y5qIGV"
      },
      "source": [
        "If we try to use a variable that has not yet been defined we get an `NameError`:"
      ]
    },
    {
      "cell_type": "code",
      "execution_count": null,
      "metadata": {
        "colab": {
          "base_uri": "https://localhost:8080/",
          "height": 141
        },
        "id": "5YuaiLaDqIGV",
        "outputId": "b58595dc-71ce-4126-a6bf-ac91fdf6901d"
      },
      "outputs": [
        {
          "output_type": "error",
          "ename": "NameError",
          "evalue": "name 'y' is not defined",
          "traceback": [
            "\u001b[0;31m---------------------------------------------------------------------------\u001b[0m",
            "\u001b[0;31mNameError\u001b[0m                                 Traceback (most recent call last)",
            "\u001b[0;32m<ipython-input-12-d9183e048de3>\u001b[0m in \u001b[0;36m<cell line: 1>\u001b[0;34m()\u001b[0m\n\u001b[0;32m----> 1\u001b[0;31m \u001b[0mprint\u001b[0m\u001b[0;34m(\u001b[0m\u001b[0my\u001b[0m\u001b[0;34m)\u001b[0m\u001b[0;34m\u001b[0m\u001b[0;34m\u001b[0m\u001b[0m\n\u001b[0m",
            "\u001b[0;31mNameError\u001b[0m: name 'y' is not defined"
          ]
        }
      ],
      "source": [
        "print(y)"
      ]
    },
    {
      "cell_type": "markdown",
      "metadata": {
        "id": "2Hv1wy8JqIGV"
      },
      "source": [
        "### Fundamental types"
      ]
    },
    {
      "cell_type": "code",
      "execution_count": null,
      "metadata": {
        "colab": {
          "base_uri": "https://localhost:8080/"
        },
        "id": "Pv-Y2srNqIGV",
        "outputId": "d595f9af-4ec5-4f2f-9618-4f7945af90e4"
      },
      "outputs": [
        {
          "output_type": "execute_result",
          "data": {
            "text/plain": [
              "int"
            ]
          },
          "metadata": {},
          "execution_count": 13
        }
      ],
      "source": [
        "# integers\n",
        "x = 1\n",
        "type(x)"
      ]
    },
    {
      "cell_type": "code",
      "execution_count": null,
      "metadata": {
        "colab": {
          "base_uri": "https://localhost:8080/"
        },
        "id": "NDhtuLamqIGV",
        "outputId": "c4ded5da-5d1f-493e-f715-88d2c8bd18c4"
      },
      "outputs": [
        {
          "output_type": "execute_result",
          "data": {
            "text/plain": [
              "float"
            ]
          },
          "metadata": {},
          "execution_count": 14
        }
      ],
      "source": [
        "# float\n",
        "x = 1.0\n",
        "type(x)"
      ]
    },
    {
      "cell_type": "code",
      "execution_count": null,
      "metadata": {
        "colab": {
          "base_uri": "https://localhost:8080/"
        },
        "id": "2abAQFpsqIGV",
        "outputId": "76cced58-bcb3-468d-b830-98e96364aafc"
      },
      "outputs": [
        {
          "output_type": "execute_result",
          "data": {
            "text/plain": [
              "bool"
            ]
          },
          "metadata": {},
          "execution_count": 15
        }
      ],
      "source": [
        "# boolean\n",
        "b1 = True\n",
        "b2 = False\n",
        "\n",
        "type(b1)"
      ]
    },
    {
      "cell_type": "code",
      "execution_count": null,
      "metadata": {
        "colab": {
          "base_uri": "https://localhost:8080/"
        },
        "id": "Zaxs8bQrqIGV",
        "outputId": "c9542e6d-2bae-4b1f-a71f-4fd93be0a273"
      },
      "outputs": [
        {
          "output_type": "execute_result",
          "data": {
            "text/plain": [
              "complex"
            ]
          },
          "metadata": {},
          "execution_count": 16
        }
      ],
      "source": [
        "# complex numbers: note the use of `j` to specify the imaginary part\n",
        "x = 1.0 - 1.0j\n",
        "type(x)"
      ]
    },
    {
      "cell_type": "code",
      "execution_count": null,
      "metadata": {
        "id": "A0eZqhgkqIGW",
        "outputId": "5aacaac2-e091-47fd-91af-0cea7f6c8026"
      },
      "outputs": [
        {
          "name": "stdout",
          "output_type": "stream",
          "text": [
            "(1-1j)\n"
          ]
        }
      ],
      "source": [
        "print(x)"
      ]
    },
    {
      "cell_type": "code",
      "execution_count": null,
      "metadata": {
        "id": "tSL38SSbqIGW",
        "outputId": "e04e4920-b7e7-4ff5-8e68-d757b2899546"
      },
      "outputs": [
        {
          "name": "stdout",
          "output_type": "stream",
          "text": [
            "(1.0, -1.0)\n"
          ]
        }
      ],
      "source": [
        "print(x.real, x.imag)"
      ]
    },
    {
      "cell_type": "markdown",
      "metadata": {
        "id": "maYhBeTkqIGW"
      },
      "source": [
        "### Type utility functions"
      ]
    },
    {
      "cell_type": "markdown",
      "metadata": {
        "id": "TRzZ8vnfqIGW"
      },
      "source": [
        "\n",
        "The module `types` contains a number of type name definitions that can be used to test if variables are of certain types:"
      ]
    },
    {
      "cell_type": "code",
      "execution_count": null,
      "metadata": {
        "id": "6coZsb_UqIGW",
        "outputId": "8e1c1fea-3dda-4937-8a0e-1afc91151436"
      },
      "outputs": [
        {
          "name": "stdout",
          "output_type": "stream",
          "text": [
            "['BooleanType', 'BufferType', 'BuiltinFunctionType', 'BuiltinMethodType', 'ClassType', 'CodeType', 'ComplexType', 'DictProxyType', 'DictType', 'DictionaryType', 'EllipsisType', 'FileType', 'FloatType', 'FrameType', 'FunctionType', 'GeneratorType', 'GetSetDescriptorType', 'InstanceType', 'IntType', 'LambdaType', 'ListType', 'LongType', 'MemberDescriptorType', 'MethodType', 'ModuleType', 'NoneType', 'NotImplementedType', 'ObjectType', 'SliceType', 'StringType', 'StringTypes', 'TracebackType', 'TupleType', 'TypeType', 'UnboundMethodType', 'UnicodeType', 'XRangeType', '__all__', '__builtins__', '__doc__', '__file__', '__name__', '__package__']\n"
          ]
        }
      ],
      "source": [
        "import types\n",
        "\n",
        "# print all types defined in the `types` module\n",
        "print(dir(types))"
      ]
    },
    {
      "cell_type": "code",
      "execution_count": null,
      "metadata": {
        "id": "aLDHzDq_qIGW",
        "outputId": "5a323139-6ccb-4dec-874c-6cdaa9d335d1"
      },
      "outputs": [
        {
          "data": {
            "text/plain": [
              "True"
            ]
          },
          "execution_count": 26,
          "metadata": {},
          "output_type": "execute_result"
        }
      ],
      "source": [
        "x = 1.0\n",
        "\n",
        "# check if the variable x is a float\n",
        "type(x) is float"
      ]
    },
    {
      "cell_type": "code",
      "execution_count": null,
      "metadata": {
        "id": "m9nLjQOdqIGW",
        "outputId": "cfc45701-8883-4d01-c5ff-5c4559e52baa"
      },
      "outputs": [
        {
          "data": {
            "text/plain": [
              "False"
            ]
          },
          "execution_count": 27,
          "metadata": {},
          "output_type": "execute_result"
        }
      ],
      "source": [
        "# check if the variable x is an int\n",
        "type(x) is int"
      ]
    },
    {
      "cell_type": "markdown",
      "metadata": {
        "id": "11UdnGAXqIGW"
      },
      "source": [
        "We can also use the `isinstance` method for testing types of variables:"
      ]
    },
    {
      "cell_type": "code",
      "execution_count": null,
      "metadata": {
        "id": "hVpxfE20qIGW",
        "outputId": "3ccf4c84-1c85-4f65-abef-11ec7cfdede3"
      },
      "outputs": [
        {
          "data": {
            "text/plain": [
              "True"
            ]
          },
          "execution_count": 28,
          "metadata": {},
          "output_type": "execute_result"
        }
      ],
      "source": [
        "isinstance(x, float)"
      ]
    },
    {
      "cell_type": "markdown",
      "metadata": {
        "id": "WrUzVJ0jqIGW"
      },
      "source": [
        "### Type casting"
      ]
    },
    {
      "cell_type": "code",
      "execution_count": null,
      "metadata": {
        "id": "7dxmiA83qIGX",
        "outputId": "7adcaa81-8e2c-40b1-ec1a-54cde084429b"
      },
      "outputs": [
        {
          "name": "stdout",
          "output_type": "stream",
          "text": [
            "(1.5, <type 'float'>)\n"
          ]
        }
      ],
      "source": [
        "x = 1.5\n",
        "\n",
        "print(x, type(x))"
      ]
    },
    {
      "cell_type": "code",
      "execution_count": null,
      "metadata": {
        "id": "OqfpLquwqIGX",
        "outputId": "b282c048-f740-496e-96f9-cb952b9dcc9d"
      },
      "outputs": [
        {
          "name": "stdout",
          "output_type": "stream",
          "text": [
            "(1, <type 'int'>)\n"
          ]
        }
      ],
      "source": [
        "x = int(x)\n",
        "\n",
        "print(x, type(x))"
      ]
    },
    {
      "cell_type": "code",
      "execution_count": null,
      "metadata": {
        "id": "H_UbvFZdqIGX",
        "outputId": "2c248679-81ba-46ec-bc39-416cc0924c54"
      },
      "outputs": [
        {
          "name": "stdout",
          "output_type": "stream",
          "text": [
            "((1+0j), <type 'complex'>)\n"
          ]
        }
      ],
      "source": [
        "z = complex(x)\n",
        "\n",
        "print(z, type(z))"
      ]
    },
    {
      "cell_type": "code",
      "execution_count": null,
      "metadata": {
        "colab": {
          "base_uri": "https://localhost:8080/",
          "height": 141
        },
        "id": "3F7bC5iBqIGX",
        "outputId": "cbf2f44e-f7dd-40cc-bcec-1de63f85da6b"
      },
      "outputs": [
        {
          "output_type": "error",
          "ename": "NameError",
          "evalue": "name 'z' is not defined",
          "traceback": [
            "\u001b[0;31m---------------------------------------------------------------------------\u001b[0m",
            "\u001b[0;31mNameError\u001b[0m                                 Traceback (most recent call last)",
            "\u001b[0;32m<ipython-input-17-19c840f40bd8>\u001b[0m in \u001b[0;36m<cell line: 1>\u001b[0;34m()\u001b[0m\n\u001b[0;32m----> 1\u001b[0;31m \u001b[0mx\u001b[0m \u001b[0;34m=\u001b[0m \u001b[0mfloat\u001b[0m\u001b[0;34m(\u001b[0m\u001b[0mz\u001b[0m\u001b[0;34m)\u001b[0m\u001b[0;34m\u001b[0m\u001b[0;34m\u001b[0m\u001b[0m\n\u001b[0m",
            "\u001b[0;31mNameError\u001b[0m: name 'z' is not defined"
          ]
        }
      ],
      "source": [
        "x = float(z)"
      ]
    },
    {
      "cell_type": "markdown",
      "metadata": {
        "id": "fnl6m1DbqIGX"
      },
      "source": [
        "Complex variables cannot be cast to floats or integers. We need to use `z.real` or `z.imag` to extract the part of the complex number we want:"
      ]
    },
    {
      "cell_type": "code",
      "execution_count": null,
      "metadata": {
        "id": "dAgRx8UpqIGX",
        "outputId": "6886abe4-7148-454e-9b7e-49d60b2770ad"
      },
      "outputs": [
        {
          "name": "stdout",
          "output_type": "stream",
          "text": [
            "(1.0, ' -> ', True, <type 'bool'>)\n",
            "(0.0, ' -> ', False, <type 'bool'>)\n"
          ]
        }
      ],
      "source": [
        "y = bool(z.real)\n",
        "\n",
        "print(z.real, \" -> \", y, type(y))\n",
        "\n",
        "y = bool(z.imag)\n",
        "\n",
        "print(z.imag, \" -> \", y, type(y))"
      ]
    },
    {
      "cell_type": "markdown",
      "metadata": {
        "id": "xEXrYvW6qIGX"
      },
      "source": [
        "## Operators and comparisons"
      ]
    },
    {
      "cell_type": "markdown",
      "metadata": {
        "id": "H2AadNy-qIGX"
      },
      "source": [
        "Most operators and comparisons in Python work as one would expect:\n",
        "\n",
        "* Arithmetic operators `+`, `-`, `*`, `/`, `//` (integer division), '**' power\n"
      ]
    },
    {
      "cell_type": "code",
      "execution_count": null,
      "metadata": {
        "id": "JWPE2PMoqIGX",
        "outputId": "6f2e42ef-56de-4f6a-ce5c-d9187cad9fe7"
      },
      "outputs": [
        {
          "data": {
            "text/plain": [
              "(3, -1, 2, 0)"
            ]
          },
          "execution_count": 34,
          "metadata": {},
          "output_type": "execute_result"
        }
      ],
      "source": [
        "1 + 2, 1 - 2, 1 * 2, 1 / 2"
      ]
    },
    {
      "cell_type": "code",
      "execution_count": null,
      "metadata": {
        "id": "EFF2Q0uAqIGX",
        "outputId": "19abf4d7-4f1d-4bc8-e1d3-ea09ddcda839"
      },
      "outputs": [
        {
          "data": {
            "text/plain": [
              "(3.0, -1.0, 2.0, 0.5)"
            ]
          },
          "execution_count": 35,
          "metadata": {},
          "output_type": "execute_result"
        }
      ],
      "source": [
        "1.0 + 2.0, 1.0 - 2.0, 1.0 * 2.0, 1.0 / 2.0"
      ]
    },
    {
      "cell_type": "code",
      "execution_count": null,
      "metadata": {
        "id": "8seOuBfLqIGY",
        "outputId": "c52e8eaa-9e64-4fa2-fb6e-ee5320a2076e"
      },
      "outputs": [
        {
          "data": {
            "text/plain": [
              "1.0"
            ]
          },
          "execution_count": 36,
          "metadata": {},
          "output_type": "execute_result"
        }
      ],
      "source": [
        "# Integer division of float numbers\n",
        "3.0 // 2.0"
      ]
    },
    {
      "cell_type": "code",
      "execution_count": null,
      "metadata": {
        "id": "I0C9l9OKqIGY",
        "outputId": "02d8d35b-c620-40e6-a730-648f47621564"
      },
      "outputs": [
        {
          "data": {
            "text/plain": [
              "4"
            ]
          },
          "execution_count": 37,
          "metadata": {},
          "output_type": "execute_result"
        }
      ],
      "source": [
        "# Note! The power operators in python isn't ^, but **\n",
        "2 ** 2"
      ]
    },
    {
      "cell_type": "markdown",
      "metadata": {
        "id": "a_DU75zJqIGY"
      },
      "source": [
        "Note: The `/` operator always performs a floating point division in Python 3.x.\n",
        "This is not true in Python 2.x, where the result of `/` is always an integer if the operands are integers.\n",
        "to be more specific, `1/2 = 0.5` (`float`) in Python 3.x, and `1/2 = 0` (`int`) in Python 2.x (but `1.0/2 = 0.5` in Python 2.x)."
      ]
    },
    {
      "cell_type": "markdown",
      "metadata": {
        "id": "Jq_PkkvBqIGY"
      },
      "source": [
        "* The boolean operators are spelled out as the words `and`, `not`, `or`."
      ]
    },
    {
      "cell_type": "code",
      "execution_count": null,
      "metadata": {
        "id": "fqZ2GhPvqIGY",
        "outputId": "aa9df2e3-486d-42de-d88f-43a07c42b0a9"
      },
      "outputs": [
        {
          "data": {
            "text/plain": [
              "False"
            ]
          },
          "execution_count": 38,
          "metadata": {},
          "output_type": "execute_result"
        }
      ],
      "source": [
        "True and False"
      ]
    },
    {
      "cell_type": "code",
      "execution_count": null,
      "metadata": {
        "id": "kV-cSJ3tqIGY",
        "outputId": "687ef67c-97b1-42b7-d7aa-648cb7066098"
      },
      "outputs": [
        {
          "data": {
            "text/plain": [
              "True"
            ]
          },
          "execution_count": 39,
          "metadata": {},
          "output_type": "execute_result"
        }
      ],
      "source": [
        "not False"
      ]
    },
    {
      "cell_type": "code",
      "execution_count": null,
      "metadata": {
        "id": "skglv30SqIGY",
        "outputId": "a4380726-090c-4ede-a38f-f0092113ec3a"
      },
      "outputs": [
        {
          "data": {
            "text/plain": [
              "True"
            ]
          },
          "execution_count": 40,
          "metadata": {},
          "output_type": "execute_result"
        }
      ],
      "source": [
        "True or False"
      ]
    },
    {
      "cell_type": "markdown",
      "metadata": {
        "id": "qcqniYPHqIGY"
      },
      "source": [
        "* Comparison operators `>`, `<`, `>=` (greater or equal), `<=` (less or equal), `==` equality, `is` identical."
      ]
    },
    {
      "cell_type": "code",
      "execution_count": null,
      "metadata": {
        "id": "jqJvPMBYqIGY",
        "outputId": "16cf0b75-8eeb-447e-9840-6c320c43e5d3"
      },
      "outputs": [
        {
          "data": {
            "text/plain": [
              "(True, False)"
            ]
          },
          "execution_count": 41,
          "metadata": {},
          "output_type": "execute_result"
        }
      ],
      "source": [
        "2 > 1, 2 < 1"
      ]
    },
    {
      "cell_type": "code",
      "execution_count": null,
      "metadata": {
        "id": "pS_iSVgrqIGY",
        "outputId": "066c1b20-221c-4b59-e13b-1dc08e8e8638"
      },
      "outputs": [
        {
          "data": {
            "text/plain": [
              "(False, False)"
            ]
          },
          "execution_count": 42,
          "metadata": {},
          "output_type": "execute_result"
        }
      ],
      "source": [
        "2 > 2, 2 < 2"
      ]
    },
    {
      "cell_type": "code",
      "execution_count": null,
      "metadata": {
        "id": "ceTDdGZMqIGY",
        "outputId": "f84aa26d-3d34-4b04-cdf3-24f7e9cfc1c9"
      },
      "outputs": [
        {
          "data": {
            "text/plain": [
              "(True, True)"
            ]
          },
          "execution_count": 43,
          "metadata": {},
          "output_type": "execute_result"
        }
      ],
      "source": [
        "2 >= 2, 2 <= 2"
      ]
    },
    {
      "cell_type": "code",
      "execution_count": null,
      "metadata": {
        "id": "t7GFhlL0qIGZ",
        "outputId": "f83af297-ae80-4b3b-c8e7-860c0a5631b2"
      },
      "outputs": [
        {
          "data": {
            "text/plain": [
              "True"
            ]
          },
          "execution_count": 44,
          "metadata": {},
          "output_type": "execute_result"
        }
      ],
      "source": [
        "# equality\n",
        "[1,2] == [1,2]"
      ]
    },
    {
      "cell_type": "code",
      "execution_count": null,
      "metadata": {
        "id": "QU22FTv4qIGZ",
        "outputId": "9e56e37b-5ad5-4cdf-bdd5-2fb98d903df8"
      },
      "outputs": [
        {
          "data": {
            "text/plain": [
              "True"
            ]
          },
          "execution_count": 45,
          "metadata": {},
          "output_type": "execute_result"
        }
      ],
      "source": [
        "# objects identical?\n",
        "l1 = l2 = [1,2]\n",
        "\n",
        "l1 is l2"
      ]
    },
    {
      "cell_type": "markdown",
      "metadata": {
        "id": "7hUDI79_qIGZ"
      },
      "source": [
        "## Compound types: Strings, List and dictionaries"
      ]
    },
    {
      "cell_type": "markdown",
      "metadata": {
        "id": "FiMLyVEmqIGZ"
      },
      "source": [
        "### Strings"
      ]
    },
    {
      "cell_type": "markdown",
      "metadata": {
        "id": "J1JyCUfuqIGZ"
      },
      "source": [
        "Strings are the variable type that is used for storing text messages."
      ]
    },
    {
      "cell_type": "code",
      "execution_count": null,
      "metadata": {
        "colab": {
          "base_uri": "https://localhost:8080/"
        },
        "id": "SvTbJtj9qIGZ",
        "outputId": "e964beaa-8e8e-44aa-e938-beb9c10fee0a"
      },
      "outputs": [
        {
          "output_type": "execute_result",
          "data": {
            "text/plain": [
              "str"
            ]
          },
          "metadata": {},
          "execution_count": 18
        }
      ],
      "source": [
        "s = \"Hello world\"\n",
        "type(s)"
      ]
    },
    {
      "cell_type": "code",
      "execution_count": null,
      "metadata": {
        "colab": {
          "base_uri": "https://localhost:8080/"
        },
        "id": "K_ZPVDyPqIGZ",
        "outputId": "df259d59-5536-4fba-d9b2-e152f0fded6b"
      },
      "outputs": [
        {
          "output_type": "execute_result",
          "data": {
            "text/plain": [
              "11"
            ]
          },
          "metadata": {},
          "execution_count": 19
        }
      ],
      "source": [
        "# length of the string: the number of characters\n",
        "len(s)"
      ]
    },
    {
      "cell_type": "code",
      "execution_count": null,
      "metadata": {
        "colab": {
          "base_uri": "https://localhost:8080/"
        },
        "id": "LO1zc7u7qIGZ",
        "outputId": "e50ae483-bfe2-4dcb-f70d-3c9294447055"
      },
      "outputs": [
        {
          "output_type": "stream",
          "name": "stdout",
          "text": [
            "Hello test\n"
          ]
        }
      ],
      "source": [
        "# replace a substring in a string with something else\n",
        "s2 = s.replace(\"world\", \"test\")\n",
        "print(s2)"
      ]
    },
    {
      "cell_type": "markdown",
      "metadata": {
        "id": "ahDrROMxqIGZ"
      },
      "source": [
        "We can index a character in a string using `[]`:"
      ]
    },
    {
      "cell_type": "code",
      "execution_count": null,
      "metadata": {
        "colab": {
          "base_uri": "https://localhost:8080/",
          "height": 36
        },
        "id": "t35Kq8bLqIGZ",
        "outputId": "08c48bf7-4765-4293-b7b7-097a0da5c5a9"
      },
      "outputs": [
        {
          "output_type": "execute_result",
          "data": {
            "text/plain": [
              "'H'"
            ],
            "application/vnd.google.colaboratory.intrinsic+json": {
              "type": "string"
            }
          },
          "metadata": {},
          "execution_count": 21
        }
      ],
      "source": [
        "s[0]"
      ]
    },
    {
      "cell_type": "markdown",
      "metadata": {
        "id": "vl0IirKuqIGZ"
      },
      "source": [
        "**Heads up MATLAB users:** Indexing start at 0!\n",
        "\n",
        "We can extract a part of a string using the syntax `[start:stop]`, which extracts characters between index `start` and `stop` -1 (the character at index `stop` is not included):"
      ]
    },
    {
      "cell_type": "code",
      "execution_count": null,
      "metadata": {
        "colab": {
          "base_uri": "https://localhost:8080/",
          "height": 36
        },
        "id": "XfdQHUYaqIGa",
        "outputId": "7a035e90-776a-4707-b36f-eb11a18c0b42"
      },
      "outputs": [
        {
          "output_type": "execute_result",
          "data": {
            "text/plain": [
              "'Hello'"
            ],
            "application/vnd.google.colaboratory.intrinsic+json": {
              "type": "string"
            }
          },
          "metadata": {},
          "execution_count": 22
        }
      ],
      "source": [
        "s[0:5]"
      ]
    },
    {
      "cell_type": "code",
      "execution_count": null,
      "metadata": {
        "colab": {
          "base_uri": "https://localhost:8080/",
          "height": 36
        },
        "id": "cT4Fi9bZqIGa",
        "outputId": "662731b3-35d1-43b1-cac7-635d06d09230"
      },
      "outputs": [
        {
          "output_type": "execute_result",
          "data": {
            "text/plain": [
              "'o'"
            ],
            "application/vnd.google.colaboratory.intrinsic+json": {
              "type": "string"
            }
          },
          "metadata": {},
          "execution_count": 23
        }
      ],
      "source": [
        "s[4:5]"
      ]
    },
    {
      "cell_type": "markdown",
      "metadata": {
        "id": "Y6vBVbwsqIGa"
      },
      "source": [
        "If we omit either (or both) of `start` or `stop` from `[start:stop]`, the default is the beginning and the end of the string, respectively:"
      ]
    },
    {
      "cell_type": "code",
      "execution_count": null,
      "metadata": {
        "colab": {
          "base_uri": "https://localhost:8080/",
          "height": 36
        },
        "id": "MRFAqRmzqIGa",
        "outputId": "9af76af1-f21e-4e01-cfb9-fa0f6b737fba"
      },
      "outputs": [
        {
          "output_type": "execute_result",
          "data": {
            "text/plain": [
              "'Hello'"
            ],
            "application/vnd.google.colaboratory.intrinsic+json": {
              "type": "string"
            }
          },
          "metadata": {},
          "execution_count": 24
        }
      ],
      "source": [
        "s[:5]"
      ]
    },
    {
      "cell_type": "code",
      "execution_count": null,
      "metadata": {
        "colab": {
          "base_uri": "https://localhost:8080/",
          "height": 36
        },
        "id": "JyCFUgvuqIGa",
        "outputId": "cc4128d4-4a2a-424e-cc28-5d8e59f3dc96"
      },
      "outputs": [
        {
          "output_type": "execute_result",
          "data": {
            "text/plain": [
              "'world'"
            ],
            "application/vnd.google.colaboratory.intrinsic+json": {
              "type": "string"
            }
          },
          "metadata": {},
          "execution_count": 25
        }
      ],
      "source": [
        "s[6:]"
      ]
    },
    {
      "cell_type": "code",
      "execution_count": null,
      "metadata": {
        "colab": {
          "base_uri": "https://localhost:8080/",
          "height": 36
        },
        "id": "w_8KWmeGqIGa",
        "outputId": "138e150d-10d7-45b6-83c0-8d8007d362c8"
      },
      "outputs": [
        {
          "output_type": "execute_result",
          "data": {
            "text/plain": [
              "'Hello world'"
            ],
            "application/vnd.google.colaboratory.intrinsic+json": {
              "type": "string"
            }
          },
          "metadata": {},
          "execution_count": 26
        }
      ],
      "source": [
        "s[:]"
      ]
    },
    {
      "cell_type": "markdown",
      "metadata": {
        "id": "Hha8fZ8oqIGa"
      },
      "source": [
        "We can also define the step size using the syntax `[start:end:step]` (the default value for `step` is 1, as we saw above):"
      ]
    },
    {
      "cell_type": "code",
      "execution_count": null,
      "metadata": {
        "colab": {
          "base_uri": "https://localhost:8080/",
          "height": 36
        },
        "id": "f0-YfAcZqIGa",
        "outputId": "18b5ea6b-7d0d-4339-9ec4-18b95206e846"
      },
      "outputs": [
        {
          "output_type": "execute_result",
          "data": {
            "text/plain": [
              "'Hello world'"
            ],
            "application/vnd.google.colaboratory.intrinsic+json": {
              "type": "string"
            }
          },
          "metadata": {},
          "execution_count": 27
        }
      ],
      "source": [
        "s[::1]"
      ]
    },
    {
      "cell_type": "code",
      "execution_count": null,
      "metadata": {
        "id": "EPWDBLhrqIGa",
        "outputId": "d9a8ab35-5dcc-4430-af09-4cfea1c72c94"
      },
      "outputs": [
        {
          "data": {
            "text/plain": [
              "'Hlowrd'"
            ]
          },
          "execution_count": 56,
          "metadata": {},
          "output_type": "execute_result"
        }
      ],
      "source": [
        "s[::2]"
      ]
    },
    {
      "cell_type": "markdown",
      "metadata": {
        "id": "M1P_BPGXqIGa"
      },
      "source": [
        "This technique is called *slicing*. Read more about the syntax here: http://docs.python.org/release/2.7.3/library/functions.html?highlight=slice#slice"
      ]
    },
    {
      "cell_type": "markdown",
      "metadata": {
        "id": "0xf33-taqIGa"
      },
      "source": [
        "Python has a very rich set of functions for text processing. See for example http://docs.python.org/2/library/string.html for more information."
      ]
    },
    {
      "cell_type": "markdown",
      "metadata": {
        "id": "Fazj4vGXqIGb"
      },
      "source": [
        "#### String formatting examples"
      ]
    },
    {
      "cell_type": "code",
      "execution_count": null,
      "metadata": {
        "id": "1XQfWtx-qIGb",
        "outputId": "244532ab-2f16-42df-d1e8-85abac89b1ec"
      },
      "outputs": [
        {
          "name": "stdout",
          "output_type": "stream",
          "text": [
            "('str1', 'str2', 'str3')\n"
          ]
        }
      ],
      "source": [
        "print(\"str1\", \"str2\", \"str3\")  # The print statement concatenates strings with a space"
      ]
    },
    {
      "cell_type": "code",
      "execution_count": null,
      "metadata": {
        "id": "HwSU5lAZqIGb",
        "outputId": "894bf259-092a-40e4-e206-6c54385d9cf9"
      },
      "outputs": [
        {
          "name": "stdout",
          "output_type": "stream",
          "text": [
            "('str1', 1.0, False, -1j)\n"
          ]
        }
      ],
      "source": [
        "print(\"str1\", 1.0, False, -1j)  # The print statements converts all arguments to strings"
      ]
    },
    {
      "cell_type": "code",
      "execution_count": null,
      "metadata": {
        "id": "dOkdaN2fqIGb",
        "outputId": "3f80c10f-97f7-424d-9efc-e563e48b0efd"
      },
      "outputs": [
        {
          "name": "stdout",
          "output_type": "stream",
          "text": [
            "str1str2str3\n"
          ]
        }
      ],
      "source": [
        "print(\"str1\" + \"str2\" + \"str3\") # strings added with + are concatenated without space"
      ]
    },
    {
      "cell_type": "code",
      "execution_count": null,
      "metadata": {
        "id": "aEy0Vw95qIGb",
        "outputId": "4c661735-7c19-4cb0-c98b-9fa192d38be1"
      },
      "outputs": [
        {
          "name": "stdout",
          "output_type": "stream",
          "text": [
            "value = 1.000000\n"
          ]
        }
      ],
      "source": [
        "print(\"value = %f\" % 1.0)       # we can use C-style string formatting"
      ]
    },
    {
      "cell_type": "code",
      "execution_count": null,
      "metadata": {
        "id": "QVowkh1OqIGb",
        "outputId": "d334968a-0a25-46e4-9612-7f90b519489d"
      },
      "outputs": [
        {
          "name": "stdout",
          "output_type": "stream",
          "text": [
            "value1 = 3.14. value2 = 1\n"
          ]
        }
      ],
      "source": [
        "# this formatting creates a string\n",
        "s2 = \"value1 = %.2f. value2 = %d\" % (3.1415, 1.5)\n",
        "\n",
        "print(s2)"
      ]
    },
    {
      "cell_type": "code",
      "execution_count": null,
      "metadata": {
        "id": "b_n5aL8YqIGb",
        "outputId": "e7fd85f1-c2e3-4011-b982-1b9f302d6ced"
      },
      "outputs": [
        {
          "name": "stdout",
          "output_type": "stream",
          "text": [
            "value1 = 3.1415, value2 = 1.5\n"
          ]
        }
      ],
      "source": [
        "# alternative, more intuitive way of formatting a string\n",
        "s3 = 'value1 = {0}, value2 = {1}'.format(3.1415, 1.5)\n",
        "\n",
        "print(s3)"
      ]
    },
    {
      "cell_type": "markdown",
      "metadata": {
        "id": "BnCTOrmmqIGb"
      },
      "source": [
        "### List"
      ]
    },
    {
      "cell_type": "markdown",
      "metadata": {
        "id": "w7oAE4iEqIGb"
      },
      "source": [
        "Lists are very similar to strings, except that each element can be of any type.\n",
        "\n",
        "The syntax for creating lists in Python is `[...]`:"
      ]
    },
    {
      "cell_type": "code",
      "execution_count": null,
      "metadata": {
        "id": "9mr4pxNQqIGb",
        "outputId": "8f8f7196-f1c4-4208-ba23-c2dde6b08646"
      },
      "outputs": [
        {
          "name": "stdout",
          "output_type": "stream",
          "text": [
            "<type 'list'>\n",
            "[1, 2, 3, 4]\n"
          ]
        }
      ],
      "source": [
        "l = [1,2,3,4]\n",
        "\n",
        "print(type(l))\n",
        "print(l)"
      ]
    },
    {
      "cell_type": "markdown",
      "metadata": {
        "id": "x57EeqfsqIGb"
      },
      "source": [
        "We can use the same slicing techniques to manipulate lists as we could use on strings:"
      ]
    },
    {
      "cell_type": "code",
      "execution_count": null,
      "metadata": {
        "id": "aUWBpB92qIGb",
        "outputId": "6ab92437-19eb-4d49-a957-5a045c84e2c5"
      },
      "outputs": [
        {
          "name": "stdout",
          "output_type": "stream",
          "text": [
            "[1, 2, 3, 4]\n",
            "[2, 3]\n",
            "[1, 3]\n"
          ]
        }
      ],
      "source": [
        "print(l)\n",
        "\n",
        "print(l[1:3])\n",
        "\n",
        "print(l[::2])"
      ]
    },
    {
      "cell_type": "markdown",
      "metadata": {
        "id": "FKjP88vgqIGc"
      },
      "source": [
        "**Heads up MATLAB users:** Indexing starts at 0!"
      ]
    },
    {
      "cell_type": "code",
      "execution_count": null,
      "metadata": {
        "colab": {
          "base_uri": "https://localhost:8080/",
          "height": 141
        },
        "id": "S2lI9t6AqIGc",
        "outputId": "f3bf17cd-1199-4b81-90a1-ed63a394c2a3"
      },
      "outputs": [
        {
          "output_type": "error",
          "ename": "NameError",
          "evalue": "name 'l' is not defined",
          "traceback": [
            "\u001b[0;31m---------------------------------------------------------------------------\u001b[0m",
            "\u001b[0;31mNameError\u001b[0m                                 Traceback (most recent call last)",
            "\u001b[0;32m<ipython-input-1-98c6d61fc190>\u001b[0m in \u001b[0;36m<cell line: 1>\u001b[0;34m()\u001b[0m\n\u001b[0;32m----> 1\u001b[0;31m \u001b[0ml\u001b[0m\u001b[0;34m[\u001b[0m\u001b[0;36m0\u001b[0m\u001b[0;34m]\u001b[0m\u001b[0;34m\u001b[0m\u001b[0;34m\u001b[0m\u001b[0m\n\u001b[0m",
            "\u001b[0;31mNameError\u001b[0m: name 'l' is not defined"
          ]
        }
      ],
      "source": [
        "l[0]"
      ]
    },
    {
      "cell_type": "markdown",
      "metadata": {
        "id": "z837BjzoqIGc"
      },
      "source": [
        "Elements in a list do not all have to be of the same type:"
      ]
    },
    {
      "cell_type": "code",
      "execution_count": null,
      "metadata": {
        "id": "1XdrXqOyqIGc",
        "outputId": "eb834b32-0af8-47a5-c5b4-71944a3c19ac"
      },
      "outputs": [
        {
          "name": "stdout",
          "output_type": "stream",
          "text": [
            "[1, 'a', 1.0, (1-1j)]\n"
          ]
        }
      ],
      "source": [
        "l = [1, 'a', 1.0, 1-1j]\n",
        "\n",
        "print(l)"
      ]
    },
    {
      "cell_type": "markdown",
      "metadata": {
        "id": "OaazPnTpqIGc"
      },
      "source": [
        "Python lists can be inhomogeneous and arbitrarily nested:"
      ]
    },
    {
      "cell_type": "code",
      "execution_count": null,
      "metadata": {
        "id": "-dMRFhl8qIGc",
        "outputId": "3e8a304f-a3b1-4847-d96f-c083fc5cd8fc"
      },
      "outputs": [
        {
          "data": {
            "text/plain": [
              "[1, [2, [3, [4, [5]]]]]"
            ]
          },
          "execution_count": 67,
          "metadata": {},
          "output_type": "execute_result"
        }
      ],
      "source": [
        "nested_list = [1, [2, [3, [4, [5]]]]]\n",
        "\n",
        "nested_list"
      ]
    },
    {
      "cell_type": "markdown",
      "metadata": {
        "id": "Yqf4fFB4qIGc"
      },
      "source": [
        "Lists play a very important role in Python. For example they are used in loops and other flow control structures (discussed below). There are a number of convenient functions for generating lists of various types, for example the `range` function:"
      ]
    },
    {
      "cell_type": "code",
      "execution_count": null,
      "metadata": {
        "id": "k-pdh8fHqIGc",
        "outputId": "2878a8f0-7f94-49bf-c1cc-16c08b180cb7"
      },
      "outputs": [
        {
          "data": {
            "text/plain": [
              "[10, 12, 14, 16, 18, 20, 22, 24, 26, 28]"
            ]
          },
          "execution_count": 68,
          "metadata": {},
          "output_type": "execute_result"
        }
      ],
      "source": [
        "start = 10\n",
        "stop = 30\n",
        "step = 2\n",
        "\n",
        "range(start, stop, step)"
      ]
    },
    {
      "cell_type": "code",
      "execution_count": null,
      "metadata": {
        "id": "C4-ICq_LqIGc",
        "outputId": "d785ac50-4b9c-4ab9-ccce-e92c0b0504e3"
      },
      "outputs": [
        {
          "data": {
            "text/plain": [
              "[10, 12, 14, 16, 18, 20, 22, 24, 26, 28]"
            ]
          },
          "execution_count": 69,
          "metadata": {},
          "output_type": "execute_result"
        }
      ],
      "source": [
        "# in python 3 range generates an iterator, which can be converted to a list using 'list(...)'.\n",
        "# It has no effect in python 2\n",
        "list(range(start, stop, step))"
      ]
    },
    {
      "cell_type": "code",
      "execution_count": null,
      "metadata": {
        "id": "HY-KC44LqIGc",
        "outputId": "7b6a2b5f-4a29-4f22-d277-164ef21de9c0"
      },
      "outputs": [
        {
          "data": {
            "text/plain": [
              "[-10, -9, -8, -7, -6, -5, -4, -3, -2, -1, 0, 1, 2, 3, 4, 5, 6, 7, 8, 9]"
            ]
          },
          "execution_count": 70,
          "metadata": {},
          "output_type": "execute_result"
        }
      ],
      "source": [
        "list(range(-10, 10))"
      ]
    },
    {
      "cell_type": "code",
      "execution_count": null,
      "metadata": {
        "id": "ohwQ8rMfqIGd",
        "outputId": "47b5b2d1-b8de-4f5c-f5d3-9393394abb1e"
      },
      "outputs": [
        {
          "data": {
            "text/plain": [
              "'Hello world'"
            ]
          },
          "execution_count": 71,
          "metadata": {},
          "output_type": "execute_result"
        }
      ],
      "source": [
        "s"
      ]
    },
    {
      "cell_type": "code",
      "execution_count": null,
      "metadata": {
        "id": "SCSiDogUqIGd",
        "outputId": "30b0596c-08e5-43cb-8761-1fb8a09db373"
      },
      "outputs": [
        {
          "data": {
            "text/plain": [
              "['H', 'e', 'l', 'l', 'o', ' ', 'w', 'o', 'r', 'l', 'd']"
            ]
          },
          "execution_count": 72,
          "metadata": {},
          "output_type": "execute_result"
        }
      ],
      "source": [
        "# convert a string to a list by type casting:\n",
        "s2 = list(s)\n",
        "\n",
        "s2"
      ]
    },
    {
      "cell_type": "code",
      "execution_count": null,
      "metadata": {
        "id": "OJBXkFVEqIGd",
        "outputId": "7d0f82ff-563a-454c-8da7-02a2e780b179"
      },
      "outputs": [
        {
          "name": "stdout",
          "output_type": "stream",
          "text": [
            "[' ', 'H', 'd', 'e', 'l', 'l', 'l', 'o', 'o', 'r', 'w']\n"
          ]
        }
      ],
      "source": [
        "# sorting lists\n",
        "s2.sort()\n",
        "\n",
        "print(s2)"
      ]
    },
    {
      "cell_type": "markdown",
      "metadata": {
        "id": "V9U7lYcuqIGd"
      },
      "source": [
        "#### Adding, inserting, modifying, and removing elements from lists"
      ]
    },
    {
      "cell_type": "code",
      "execution_count": null,
      "metadata": {
        "id": "ezm4s2rgqIGd",
        "outputId": "66f8b33c-3847-4d3b-fa5c-64c54250e0f2"
      },
      "outputs": [
        {
          "name": "stdout",
          "output_type": "stream",
          "text": [
            "['A', 'd', 'd']\n"
          ]
        }
      ],
      "source": [
        "# create a new empty list\n",
        "l = []\n",
        "\n",
        "# add an elements using `append`\n",
        "l.append(\"A\")\n",
        "l.append(\"d\")\n",
        "l.append(\"d\")\n",
        "\n",
        "print(l)"
      ]
    },
    {
      "cell_type": "markdown",
      "metadata": {
        "id": "6rIpPb09qIGf"
      },
      "source": [
        "We can modify lists by assigning new values to elements in the list. In technical jargon, lists are *mutable*."
      ]
    },
    {
      "cell_type": "code",
      "execution_count": null,
      "metadata": {
        "id": "lqsTLWlyqIGg",
        "outputId": "99fd25be-8dfd-439c-bae7-0d17a047ccc6"
      },
      "outputs": [
        {
          "name": "stdout",
          "output_type": "stream",
          "text": [
            "['A', 'p', 'p']\n"
          ]
        }
      ],
      "source": [
        "l[1] = \"p\"\n",
        "l[2] = \"p\"\n",
        "\n",
        "print(l)"
      ]
    },
    {
      "cell_type": "code",
      "execution_count": null,
      "metadata": {
        "id": "b8vfJUnVqIGg",
        "outputId": "8ea42228-b597-4f13-e41d-3d132c997ae3"
      },
      "outputs": [
        {
          "name": "stdout",
          "output_type": "stream",
          "text": [
            "['A', 'd', 'd']\n"
          ]
        }
      ],
      "source": [
        "l[1:3] = [\"d\", \"d\"]\n",
        "\n",
        "print(l)"
      ]
    },
    {
      "cell_type": "markdown",
      "metadata": {
        "id": "CTRCbouWqIGg"
      },
      "source": [
        "Insert an element at an specific index using `insert`"
      ]
    },
    {
      "cell_type": "code",
      "execution_count": null,
      "metadata": {
        "id": "d9-GVFekqIGh",
        "outputId": "774afa2c-77f3-45d9-e351-cdd5ce440c01"
      },
      "outputs": [
        {
          "name": "stdout",
          "output_type": "stream",
          "text": [
            "['i', 'n', 's', 'e', 'r', 't', 'A', 'd', 'd']\n"
          ]
        }
      ],
      "source": [
        "l.insert(0, \"i\")\n",
        "l.insert(1, \"n\")\n",
        "l.insert(2, \"s\")\n",
        "l.insert(3, \"e\")\n",
        "l.insert(4, \"r\")\n",
        "l.insert(5, \"t\")\n",
        "\n",
        "print(l)"
      ]
    },
    {
      "cell_type": "markdown",
      "metadata": {
        "id": "V16ozt4HqIGh"
      },
      "source": [
        "Remove first element with specific value using 'remove'"
      ]
    },
    {
      "cell_type": "code",
      "execution_count": null,
      "metadata": {
        "id": "c2OrzrJBqIGh",
        "outputId": "2f478ab2-74c0-498f-9d68-7d6a0078ae14"
      },
      "outputs": [
        {
          "name": "stdout",
          "output_type": "stream",
          "text": [
            "['i', 'n', 's', 'e', 'r', 't', 'd', 'd']\n"
          ]
        }
      ],
      "source": [
        "l.remove(\"A\")\n",
        "\n",
        "print(l)"
      ]
    },
    {
      "cell_type": "markdown",
      "metadata": {
        "id": "VBTL-K5YqIGh"
      },
      "source": [
        "Remove an element at a specific location using `del`:"
      ]
    },
    {
      "cell_type": "code",
      "execution_count": null,
      "metadata": {
        "id": "mN-tnhfpqIGh",
        "outputId": "deed1e0d-c4c2-4ffd-9465-f8c3f8c7700b"
      },
      "outputs": [
        {
          "name": "stdout",
          "output_type": "stream",
          "text": [
            "['i', 'n', 's', 'e', 'r', 't']\n"
          ]
        }
      ],
      "source": [
        "del l[7]\n",
        "del l[6]\n",
        "\n",
        "print(l)"
      ]
    },
    {
      "cell_type": "markdown",
      "metadata": {
        "id": "AV7b-HOEqIGh"
      },
      "source": [
        "See `help(list)` for more details, or read the online documentation"
      ]
    },
    {
      "cell_type": "markdown",
      "metadata": {
        "id": "o7hriXuPqIGh"
      },
      "source": [
        "### Tuples"
      ]
    },
    {
      "cell_type": "markdown",
      "metadata": {
        "id": "70BJMCSiqIGh"
      },
      "source": [
        "Tuples are like lists, except that they cannot be modified once created, that is they are *immutable*.\n",
        "\n",
        "In Python, tuples are created using the syntax `(..., ..., ...)`, or even `..., ...`:"
      ]
    },
    {
      "cell_type": "code",
      "execution_count": null,
      "metadata": {
        "id": "tKs_SOQCqIGh",
        "outputId": "2c7bbbe7-d71a-4e58-a3d2-bc5c1647e2a9"
      },
      "outputs": [
        {
          "name": "stdout",
          "output_type": "stream",
          "text": [
            "((10, 20), <type 'tuple'>)\n"
          ]
        }
      ],
      "source": [
        "point = (10, 20)\n",
        "\n",
        "print(point, type(point))"
      ]
    },
    {
      "cell_type": "code",
      "execution_count": null,
      "metadata": {
        "id": "fXU7CbuvqIGh",
        "outputId": "21e1abd1-4ba1-46bc-c4fd-0ad04ff512f3"
      },
      "outputs": [
        {
          "name": "stdout",
          "output_type": "stream",
          "text": [
            "((10, 20), <type 'tuple'>)\n"
          ]
        }
      ],
      "source": [
        "point = 10, 20\n",
        "\n",
        "print(point, type(point))"
      ]
    },
    {
      "cell_type": "markdown",
      "metadata": {
        "id": "QltzCC_-qIGi"
      },
      "source": [
        "We can unpack a tuple by assigning it to a comma-separated list of variables:"
      ]
    },
    {
      "cell_type": "code",
      "execution_count": null,
      "metadata": {
        "id": "BTeBWGJvqIGi",
        "outputId": "c75c322d-739c-486b-9efb-4c1a1c6b477d"
      },
      "outputs": [
        {
          "name": "stdout",
          "output_type": "stream",
          "text": [
            "('x =', 10)\n",
            "('y =', 20)\n"
          ]
        }
      ],
      "source": [
        "x, y = point\n",
        "\n",
        "print(\"x =\", x)\n",
        "print(\"y =\", y)"
      ]
    },
    {
      "cell_type": "markdown",
      "metadata": {
        "id": "faja5fqfqIGi"
      },
      "source": [
        "If we try to assign a new value to an element in a tuple we get an error:"
      ]
    },
    {
      "cell_type": "code",
      "execution_count": null,
      "metadata": {
        "id": "ZRxCzBPVqIGi",
        "outputId": "867b4bf7-dd9e-4335-b958-c60bd56a9c63"
      },
      "outputs": [
        {
          "ename": "TypeError",
          "evalue": "'tuple' object does not support item assignment",
          "output_type": "error",
          "traceback": [
            "\u001b[0;31m---------------------------------------------------------------------------\u001b[0m",
            "\u001b[0;31mTypeError\u001b[0m                                 Traceback (most recent call last)",
            "\u001b[0;32m<ipython-input-83-ac1c641a5dca>\u001b[0m in \u001b[0;36m<module>\u001b[0;34m()\u001b[0m\n\u001b[0;32m----> 1\u001b[0;31m \u001b[0mpoint\u001b[0m\u001b[0;34m[\u001b[0m\u001b[0;36m0\u001b[0m\u001b[0;34m]\u001b[0m \u001b[0;34m=\u001b[0m \u001b[0;36m20\u001b[0m\u001b[0;34m\u001b[0m\u001b[0m\n\u001b[0m",
            "\u001b[0;31mTypeError\u001b[0m: 'tuple' object does not support item assignment"
          ]
        }
      ],
      "source": [
        "point[0] = 20"
      ]
    },
    {
      "cell_type": "markdown",
      "metadata": {
        "id": "OxhiKY_YqIGi"
      },
      "source": [
        "### Dictionaries"
      ]
    },
    {
      "cell_type": "markdown",
      "metadata": {
        "id": "mKx4vvbYqIGi"
      },
      "source": [
        "Dictionaries are also like lists, except that each element is a key-value pair. The syntax for dictionaries is `{key1 : value1, ...}`:"
      ]
    },
    {
      "cell_type": "code",
      "execution_count": null,
      "metadata": {
        "id": "TpHICfw4qIGi",
        "outputId": "f071b357-66e2-4bc2-a78c-4478aed8b0a4"
      },
      "outputs": [
        {
          "name": "stdout",
          "output_type": "stream",
          "text": [
            "<type 'dict'>\n",
            "{'parameter1': 1.0, 'parameter3': 3.0, 'parameter2': 2.0}\n"
          ]
        }
      ],
      "source": [
        "params = {\"parameter1\" : 1.0,\n",
        "          \"parameter2\" : 2.0,\n",
        "          \"parameter3\" : 3.0,}\n",
        "\n",
        "print(type(params))\n",
        "print(params)"
      ]
    },
    {
      "cell_type": "code",
      "execution_count": null,
      "metadata": {
        "id": "nEl7mzypqIGi",
        "outputId": "00b53696-1ed3-41ba-866e-67c149427c78"
      },
      "outputs": [
        {
          "name": "stdout",
          "output_type": "stream",
          "text": [
            "parameter1 = 1.0\n",
            "parameter2 = 2.0\n",
            "parameter3 = 3.0\n"
          ]
        }
      ],
      "source": [
        "print(\"parameter1 = \" + str(params[\"parameter1\"]))\n",
        "print(\"parameter2 = \" + str(params[\"parameter2\"]))\n",
        "print(\"parameter3 = \" + str(params[\"parameter3\"]))"
      ]
    },
    {
      "cell_type": "code",
      "execution_count": null,
      "metadata": {
        "id": "8mT-imHfqIGi",
        "outputId": "ea525f90-180f-41a6-9ce1-f90ebe5877c7"
      },
      "outputs": [
        {
          "name": "stdout",
          "output_type": "stream",
          "text": [
            "parameter1 = A\n",
            "parameter2 = B\n",
            "parameter3 = 3.0\n",
            "parameter4 = D\n"
          ]
        }
      ],
      "source": [
        "params[\"parameter1\"] = \"A\"\n",
        "params[\"parameter2\"] = \"B\"\n",
        "\n",
        "# add a new entry\n",
        "params[\"parameter4\"] = \"D\"\n",
        "\n",
        "print(\"parameter1 = \" + str(params[\"parameter1\"]))\n",
        "print(\"parameter2 = \" + str(params[\"parameter2\"]))\n",
        "print(\"parameter3 = \" + str(params[\"parameter3\"]))\n",
        "print(\"parameter4 = \" + str(params[\"parameter4\"]))"
      ]
    },
    {
      "cell_type": "markdown",
      "metadata": {
        "id": "gflRhzilqIGi"
      },
      "source": [
        "## Control Flow"
      ]
    },
    {
      "cell_type": "markdown",
      "metadata": {
        "id": "5fQu_cbWqIGj"
      },
      "source": [
        "### Conditional statements: if, elif, else"
      ]
    },
    {
      "cell_type": "markdown",
      "metadata": {
        "id": "YTT9sov4qIGj"
      },
      "source": [
        "The Python syntax for conditional execution of code uses the keywords `if`, `elif` (else if), `else`:"
      ]
    },
    {
      "cell_type": "code",
      "execution_count": null,
      "metadata": {
        "id": "e9f7-YfMqIGj",
        "outputId": "9296c5c3-866f-49d3-f6ab-b93b7258b7be"
      },
      "outputs": [
        {
          "name": "stdout",
          "output_type": "stream",
          "text": [
            "statement1 and statement2 are False\n"
          ]
        }
      ],
      "source": [
        "statement1 = False\n",
        "statement2 = False\n",
        "\n",
        "if statement1:\n",
        "    print(\"statement1 is True\")\n",
        "\n",
        "elif statement2:\n",
        "    print(\"statement2 is True\")\n",
        "\n",
        "else:\n",
        "    print(\"statement1 and statement2 are False\")"
      ]
    },
    {
      "cell_type": "markdown",
      "metadata": {
        "id": "F33d8i_kqIGj"
      },
      "source": [
        "For the first time, here we encounter a peculiar and unusual aspect of the Python programming language: Program blocks are defined by their indentation level.\n",
        "\n",
        "Compare to the equivalent C code:\n",
        "\n",
        "    if (statement1)\n",
        "    {\n",
        "        printf(\"statement1 is True\\n\");\n",
        "    }\n",
        "    else if (statement2)\n",
        "    {\n",
        "        printf(\"statement2 is True\\n\");\n",
        "    }\n",
        "    else\n",
        "    {\n",
        "        printf(\"statement1 and statement2 are False\\n\");\n",
        "    }\n",
        "\n",
        "In C blocks are defined by the enclosing curly brackets `{` and `}`. And the level of indentation (white space before the code statements) does not matter (completely optional).\n",
        "\n",
        "But in Python, the extent of a code block is defined by the indentation level (usually a tab or say four white spaces). This means that we have to be careful to indent our code correctly, or else we will get syntax errors."
      ]
    },
    {
      "cell_type": "markdown",
      "metadata": {
        "id": "sJsdch-eqIGj"
      },
      "source": [
        "#### Examples:"
      ]
    },
    {
      "cell_type": "code",
      "execution_count": null,
      "metadata": {
        "id": "MBgpDFUVqIGj",
        "outputId": "f1928151-b1ff-4794-aba4-65ff97a1d427"
      },
      "outputs": [
        {
          "name": "stdout",
          "output_type": "stream",
          "text": [
            "both statement1 and statement2 are True\n"
          ]
        }
      ],
      "source": [
        "statement1 = statement2 = True\n",
        "\n",
        "if statement1:\n",
        "    if statement2:\n",
        "        print(\"both statement1 and statement2 are True\")"
      ]
    },
    {
      "cell_type": "code",
      "execution_count": null,
      "metadata": {
        "id": "imOt5tAEqIGj",
        "outputId": "3dd00b67-676c-4f8b-c966-dfc8e5f862d8"
      },
      "outputs": [
        {
          "ename": "IndentationError",
          "evalue": "expected an indented block (<ipython-input-89-78979cdecf37>, line 4)",
          "output_type": "error",
          "traceback": [
            "\u001b[0;36m  File \u001b[0;32m\"<ipython-input-89-78979cdecf37>\"\u001b[0;36m, line \u001b[0;32m4\u001b[0m\n\u001b[0;31m    print(\"both statement1 and statement2 are True\")  # this line is not properly indented\u001b[0m\n\u001b[0m        ^\u001b[0m\n\u001b[0;31mIndentationError\u001b[0m\u001b[0;31m:\u001b[0m expected an indented block\n"
          ]
        }
      ],
      "source": [
        "# Bad indentation!\n",
        "if statement1:\n",
        "    if statement2:\n",
        "    print(\"both statement1 and statement2 are True\")  # this line is not properly indented"
      ]
    },
    {
      "cell_type": "code",
      "execution_count": null,
      "metadata": {
        "id": "lmjVvpXfqIGj"
      },
      "outputs": [],
      "source": [
        "statement1 = False\n",
        "\n",
        "if statement1:\n",
        "    print(\"printed if statement1 is True\")\n",
        "\n",
        "    print(\"still inside the if block\")"
      ]
    },
    {
      "cell_type": "code",
      "execution_count": null,
      "metadata": {
        "id": "uRPku-bVqIGj",
        "outputId": "e557398f-1425-46c2-b2d7-b687923e7982"
      },
      "outputs": [
        {
          "name": "stdout",
          "output_type": "stream",
          "text": [
            "now outside the if block\n"
          ]
        }
      ],
      "source": [
        "if statement1:\n",
        "    print(\"printed if statement1 is True\")\n",
        "\n",
        "print(\"now outside the if block\")"
      ]
    },
    {
      "cell_type": "markdown",
      "metadata": {
        "id": "VdNPgh4yqIGj"
      },
      "source": [
        "## Loops"
      ]
    },
    {
      "cell_type": "markdown",
      "metadata": {
        "id": "lwqzUmtcqIGj"
      },
      "source": [
        "In Python, loops can be programmed in a number of different ways. The most common is the `for` loop, which is used together with iterable objects, such as lists. The basic syntax is:"
      ]
    },
    {
      "cell_type": "markdown",
      "metadata": {
        "id": "d4q4N42pqIGj"
      },
      "source": [
        "### **`for` loops**:"
      ]
    },
    {
      "cell_type": "code",
      "execution_count": null,
      "metadata": {
        "id": "DsgJBUdzqIGk",
        "outputId": "9a2e8a30-c900-425d-cde1-c5f5f5614488"
      },
      "outputs": [
        {
          "name": "stdout",
          "output_type": "stream",
          "text": [
            "1\n",
            "2\n",
            "3\n"
          ]
        }
      ],
      "source": [
        "for x in [1,2,3]:\n",
        "    print(x)"
      ]
    },
    {
      "cell_type": "markdown",
      "metadata": {
        "id": "fT94ejROqIGk"
      },
      "source": [
        "The `for` loop iterates over the elements of the supplied list, and executes the containing block once for each element. Any kind of list can be used in the `for` loop. For example:"
      ]
    },
    {
      "cell_type": "code",
      "execution_count": null,
      "metadata": {
        "id": "VK0WqDPaqIGk",
        "outputId": "24445ca2-efa6-491a-bb51-42e29f3304a7"
      },
      "outputs": [
        {
          "name": "stdout",
          "output_type": "stream",
          "text": [
            "0\n",
            "1\n",
            "2\n",
            "3\n"
          ]
        }
      ],
      "source": [
        "for x in range(4): # by default range start at 0\n",
        "    print(x)"
      ]
    },
    {
      "cell_type": "markdown",
      "metadata": {
        "id": "3SP4tSUaqIGk"
      },
      "source": [
        "Note: `range(4)` does not include 4 !"
      ]
    },
    {
      "cell_type": "code",
      "execution_count": null,
      "metadata": {
        "id": "B83yrmqOqIGk",
        "outputId": "dd4a8742-2136-4ef2-d2fe-431644fa3f7a"
      },
      "outputs": [
        {
          "name": "stdout",
          "output_type": "stream",
          "text": [
            "-3\n",
            "-2\n",
            "-1\n",
            "0\n",
            "1\n",
            "2\n"
          ]
        }
      ],
      "source": [
        "for x in range(-3,3):\n",
        "    print(x)"
      ]
    },
    {
      "cell_type": "code",
      "execution_count": null,
      "metadata": {
        "id": "r5YjEo2uqIGk",
        "outputId": "d0076b42-cff0-43af-b1c8-e44d1fae6efc"
      },
      "outputs": [
        {
          "name": "stdout",
          "output_type": "stream",
          "text": [
            "scientific\n",
            "computing\n",
            "with\n",
            "python\n"
          ]
        }
      ],
      "source": [
        "for word in [\"scientific\", \"computing\", \"with\", \"python\"]:\n",
        "    print(word)"
      ]
    },
    {
      "cell_type": "markdown",
      "metadata": {
        "id": "LK3N1ssRqIGk"
      },
      "source": [
        "To iterate over key-value pairs of a dictionary:"
      ]
    },
    {
      "cell_type": "code",
      "execution_count": null,
      "metadata": {
        "id": "3qmnKcroqIGl",
        "outputId": "41d4fb48-2eac-442d-8948-54c4d73e1d8f"
      },
      "outputs": [
        {
          "name": "stdout",
          "output_type": "stream",
          "text": [
            "parameter4 = D\n",
            "parameter1 = A\n",
            "parameter3 = 3.0\n",
            "parameter2 = B\n"
          ]
        }
      ],
      "source": [
        "for key, value in params.items():\n",
        "    print(key + \" = \" + str(value))"
      ]
    },
    {
      "cell_type": "markdown",
      "metadata": {
        "id": "1Fj7hMKHqIGl"
      },
      "source": [
        "Sometimes it is useful to have access to the indices of the values when iterating over a list. We can use the `enumerate` function for this:"
      ]
    },
    {
      "cell_type": "code",
      "execution_count": null,
      "metadata": {
        "id": "RS5s4v7aqIGl",
        "outputId": "32f137cc-0e15-42a6-fc53-f0b19c90122a"
      },
      "outputs": [
        {
          "name": "stdout",
          "output_type": "stream",
          "text": [
            "(0, -3)\n",
            "(1, -2)\n",
            "(2, -1)\n",
            "(3, 0)\n",
            "(4, 1)\n",
            "(5, 2)\n"
          ]
        }
      ],
      "source": [
        "for idx, x in enumerate(range(-3,3)):\n",
        "    print(idx, x)"
      ]
    },
    {
      "cell_type": "markdown",
      "metadata": {
        "id": "eWlB_wYBqIGl"
      },
      "source": [
        "### List comprehensions: Creating lists using `for` loops:"
      ]
    },
    {
      "cell_type": "markdown",
      "metadata": {
        "id": "HIcnDAypqIGl"
      },
      "source": [
        "A convenient and compact way to initialize lists:"
      ]
    },
    {
      "cell_type": "code",
      "execution_count": null,
      "metadata": {
        "id": "WmV7ad8hqIGl",
        "outputId": "773124a1-6930-412e-fb61-75d1c9acc3e8"
      },
      "outputs": [
        {
          "name": "stdout",
          "output_type": "stream",
          "text": [
            "[0, 1, 4, 9, 16]\n"
          ]
        }
      ],
      "source": [
        "l1 = [x**2 for x in range(0,5)]\n",
        "\n",
        "print(l1)"
      ]
    },
    {
      "cell_type": "markdown",
      "metadata": {
        "id": "zyCD-Fg1qIGl"
      },
      "source": [
        "### `while` loops:"
      ]
    },
    {
      "cell_type": "code",
      "execution_count": null,
      "metadata": {
        "id": "4xO4k-oaqIGl",
        "outputId": "6b08e1f4-1ece-4ed9-afd4-4eefd375f776"
      },
      "outputs": [
        {
          "name": "stdout",
          "output_type": "stream",
          "text": [
            "0\n",
            "1\n",
            "2\n",
            "3\n",
            "4\n",
            "done\n"
          ]
        }
      ],
      "source": [
        "i = 0\n",
        "\n",
        "while i < 5:\n",
        "    print(i)\n",
        "\n",
        "    i = i + 1\n",
        "\n",
        "print(\"done\")"
      ]
    },
    {
      "cell_type": "markdown",
      "metadata": {
        "id": "9CF36vuXqIGl"
      },
      "source": [
        "Note that the `print(\"done\")` statement is not part of the `while` loop body because of the difference in indentation."
      ]
    },
    {
      "cell_type": "markdown",
      "metadata": {
        "id": "wR9-tXi1qIGl"
      },
      "source": [
        "## Functions"
      ]
    },
    {
      "cell_type": "markdown",
      "metadata": {
        "id": "1jJtktEfqIGl"
      },
      "source": [
        "A function in Python is defined using the keyword `def`, followed by a function name, a signature within parentheses `()`, and a colon `:`. The following code, with one additional level of indentation, is the function body."
      ]
    },
    {
      "cell_type": "code",
      "execution_count": null,
      "metadata": {
        "id": "XJxjeCeTqIGm"
      },
      "outputs": [],
      "source": [
        "def func0():\n",
        "    print(\"test\")"
      ]
    },
    {
      "cell_type": "code",
      "execution_count": null,
      "metadata": {
        "id": "BseodEehqIGm",
        "outputId": "a89b1bcb-c952-41e5-c8af-3ffed02bedd8"
      },
      "outputs": [
        {
          "name": "stdout",
          "output_type": "stream",
          "text": [
            "test\n"
          ]
        }
      ],
      "source": [
        "func0()"
      ]
    },
    {
      "cell_type": "markdown",
      "metadata": {
        "id": "0khRVBZHqIGm"
      },
      "source": [
        "Optionally, but highly recommended, we can define a so called \"docstring\", which is a description of the functions purpose and behavior. The docstring should follow directly after the function definition, before the code in the function body."
      ]
    },
    {
      "cell_type": "code",
      "execution_count": null,
      "metadata": {
        "id": "9kNQKj5jqIGm"
      },
      "outputs": [],
      "source": [
        "def func1(s):\n",
        "    \"\"\"\n",
        "    Print a string 's' and tell how many characters it has\n",
        "    \"\"\"\n",
        "\n",
        "    print(s + \" has \" + str(len(s)) + \" characters\")"
      ]
    },
    {
      "cell_type": "code",
      "execution_count": null,
      "metadata": {
        "id": "VkvLC5dgqIGm",
        "outputId": "c8028f98-17a2-4097-8699-1a98cf9bc51f"
      },
      "outputs": [
        {
          "name": "stdout",
          "output_type": "stream",
          "text": [
            "Help on function func1 in module __main__:\n",
            "\n",
            "func1(s)\n",
            "    Print a string 's' and tell how many characters it has\n",
            "\n"
          ]
        }
      ],
      "source": [
        "help(func1)"
      ]
    },
    {
      "cell_type": "code",
      "execution_count": null,
      "metadata": {
        "id": "WkO48_6DqIGm",
        "outputId": "31c39e52-478f-424e-c79a-904d2e8fca35"
      },
      "outputs": [
        {
          "name": "stdout",
          "output_type": "stream",
          "text": [
            "test has 4 characters\n"
          ]
        }
      ],
      "source": [
        "func1(\"test\")"
      ]
    },
    {
      "cell_type": "markdown",
      "metadata": {
        "id": "S7jVSJQhqIGm"
      },
      "source": [
        "Functions that returns a value use the `return` keyword:"
      ]
    },
    {
      "cell_type": "code",
      "execution_count": null,
      "metadata": {
        "id": "uosu6vP2qIGm"
      },
      "outputs": [],
      "source": [
        "def square(x):\n",
        "    \"\"\"\n",
        "    Return the square of x.\n",
        "    \"\"\"\n",
        "    return x ** 2"
      ]
    },
    {
      "cell_type": "code",
      "execution_count": null,
      "metadata": {
        "id": "VmexyYsgqIGm",
        "outputId": "62580c24-390c-4bab-b295-f61664d35cdb"
      },
      "outputs": [
        {
          "data": {
            "text/plain": [
              "16"
            ]
          },
          "execution_count": 106,
          "metadata": {},
          "output_type": "execute_result"
        }
      ],
      "source": [
        "square(4)"
      ]
    },
    {
      "cell_type": "markdown",
      "metadata": {
        "id": "1YexKXF5qIGm"
      },
      "source": [
        "We can return multiple values from a function using tuples (see above):"
      ]
    },
    {
      "cell_type": "code",
      "execution_count": null,
      "metadata": {
        "id": "_mmcuP2JqIGm"
      },
      "outputs": [],
      "source": [
        "def powers(x):\n",
        "    \"\"\"\n",
        "    Return a few powers of x.\n",
        "    \"\"\"\n",
        "    return x ** 2, x ** 3, x ** 4"
      ]
    },
    {
      "cell_type": "code",
      "execution_count": null,
      "metadata": {
        "id": "Pn0IeJauqIGm",
        "outputId": "6efc3731-1c53-4d4c-d104-03aa5cb447e2"
      },
      "outputs": [
        {
          "data": {
            "text/plain": [
              "(9, 27, 81)"
            ]
          },
          "execution_count": 108,
          "metadata": {},
          "output_type": "execute_result"
        }
      ],
      "source": [
        "powers(3)"
      ]
    },
    {
      "cell_type": "code",
      "execution_count": null,
      "metadata": {
        "id": "ZqmgtTEYqIGn",
        "outputId": "6a0b51cd-0c1a-4372-adb5-0b12837271c1"
      },
      "outputs": [
        {
          "name": "stdout",
          "output_type": "stream",
          "text": [
            "27\n"
          ]
        }
      ],
      "source": [
        "x2, x3, x4 = powers(3)\n",
        "\n",
        "print(x3)"
      ]
    },
    {
      "cell_type": "markdown",
      "metadata": {
        "id": "s4GUdaz6qIGn"
      },
      "source": [
        "### Default argument and keyword arguments"
      ]
    },
    {
      "cell_type": "markdown",
      "metadata": {
        "id": "ZcklWENqqIGn"
      },
      "source": [
        "In a definition of a function, we can give default values to the arguments the function takes:"
      ]
    },
    {
      "cell_type": "code",
      "execution_count": null,
      "metadata": {
        "id": "crQ2hPw7qIGn"
      },
      "outputs": [],
      "source": [
        "def myfunc(x, p=2, debug=False):\n",
        "    if debug:\n",
        "        print(\"evaluating myfunc for x = \" + str(x) + \" using exponent p = \" + str(p))\n",
        "    return x**p"
      ]
    },
    {
      "cell_type": "markdown",
      "metadata": {
        "id": "6HetaqTbqIGn"
      },
      "source": [
        "If we don't provide a value of the `debug` argument when calling the the function `myfunc` it defaults to the value provided in the function definition:"
      ]
    },
    {
      "cell_type": "code",
      "execution_count": null,
      "metadata": {
        "id": "xGnohIOVqIGn",
        "outputId": "f9eab6b8-2996-47cc-c1d0-d4a408cebc16"
      },
      "outputs": [
        {
          "data": {
            "text/plain": [
              "25"
            ]
          },
          "execution_count": 111,
          "metadata": {},
          "output_type": "execute_result"
        }
      ],
      "source": [
        "myfunc(5)"
      ]
    },
    {
      "cell_type": "code",
      "execution_count": null,
      "metadata": {
        "id": "1a5Pf4slqIGn",
        "outputId": "825e85da-f557-4982-c5db-33a5be6ec8be"
      },
      "outputs": [
        {
          "name": "stdout",
          "output_type": "stream",
          "text": [
            "evaluating myfunc for x = 5 using exponent p = 2\n"
          ]
        },
        {
          "data": {
            "text/plain": [
              "25"
            ]
          },
          "execution_count": 112,
          "metadata": {},
          "output_type": "execute_result"
        }
      ],
      "source": [
        "myfunc(5, debug=True)"
      ]
    },
    {
      "cell_type": "markdown",
      "metadata": {
        "id": "zK85XGdWqIGn"
      },
      "source": [
        "If we explicitly list the name of the arguments in the function calls, they do not need to come in the same order as in the function definition. This is called *keyword* arguments, and is often very useful in functions that takes a lot of optional arguments."
      ]
    },
    {
      "cell_type": "code",
      "execution_count": null,
      "metadata": {
        "id": "cSSFf_rUqIGo",
        "outputId": "5d1b057a-439c-41df-93ca-dfb9983b9f2c"
      },
      "outputs": [
        {
          "name": "stdout",
          "output_type": "stream",
          "text": [
            "evaluating myfunc for x = 7 using exponent p = 3\n"
          ]
        },
        {
          "data": {
            "text/plain": [
              "343"
            ]
          },
          "execution_count": 113,
          "metadata": {},
          "output_type": "execute_result"
        }
      ],
      "source": [
        "myfunc(p=3, debug=True, x=7)"
      ]
    },
    {
      "cell_type": "markdown",
      "metadata": {
        "id": "YmVXeUsqqIGo"
      },
      "source": [
        "### Unnamed functions (lambda function)"
      ]
    },
    {
      "cell_type": "markdown",
      "metadata": {
        "id": "ovTR-SFxqIGo"
      },
      "source": [
        "In Python we can also create unnamed functions, using the `lambda` keyword:"
      ]
    },
    {
      "cell_type": "code",
      "execution_count": null,
      "metadata": {
        "id": "nyn3dLu8qIGo"
      },
      "outputs": [],
      "source": [
        "f1 = lambda x: x**2\n",
        "\n",
        "# is equivalent to\n",
        "\n",
        "def f2(x):\n",
        "    return x**2"
      ]
    },
    {
      "cell_type": "code",
      "execution_count": null,
      "metadata": {
        "id": "hTm4aLo1qIGo",
        "outputId": "603c1c4a-074d-49c6-cc49-0322cfe4d129"
      },
      "outputs": [
        {
          "data": {
            "text/plain": [
              "(4, 4)"
            ]
          },
          "execution_count": 115,
          "metadata": {},
          "output_type": "execute_result"
        }
      ],
      "source": [
        "f1(2), f2(2)"
      ]
    },
    {
      "cell_type": "markdown",
      "metadata": {
        "id": "cuvMSJ66qIGo"
      },
      "source": [
        "This technique is useful for example when we want to pass a simple function as an argument to another function, like this:"
      ]
    },
    {
      "cell_type": "code",
      "execution_count": null,
      "metadata": {
        "id": "GVwTHoimqIGo",
        "outputId": "bf1c6fcd-e35c-4916-99e9-4bb9f686ec1a"
      },
      "outputs": [
        {
          "data": {
            "text/plain": [
              "[9, 4, 1, 0, 1, 4, 9]"
            ]
          },
          "execution_count": 116,
          "metadata": {},
          "output_type": "execute_result"
        }
      ],
      "source": [
        "# map is a built-in python function\n",
        "map(lambda x: x**2, range(-3,4))"
      ]
    },
    {
      "cell_type": "code",
      "execution_count": null,
      "metadata": {
        "id": "T9bRt1g8qIGo",
        "outputId": "211b6bc6-e149-4590-fde0-07ce75878ac0"
      },
      "outputs": [
        {
          "data": {
            "text/plain": [
              "[9, 4, 1, 0, 1, 4, 9]"
            ]
          },
          "execution_count": 117,
          "metadata": {},
          "output_type": "execute_result"
        }
      ],
      "source": [
        "# in python 3 we can use `list(...)` to convert the iterator to an explicit list\n",
        "list(map(lambda x: x**2, range(-3,4)))"
      ]
    },
    {
      "cell_type": "markdown",
      "metadata": {
        "id": "XEk63O9RqIGo"
      },
      "source": [
        "## Classes"
      ]
    },
    {
      "cell_type": "markdown",
      "metadata": {
        "id": "akXIE_evqIGo"
      },
      "source": [
        "Classes are the key features of object-oriented programming. A class is a structure for representing an object and the operations that can be performed on the object.\n",
        "\n",
        "In Python a class can contain *attributes* (variables) and *methods* (functions).\n",
        "\n",
        "A class is defined almost like a function, but using the `class` keyword, and the class definition usually contains a number of class method definitions (a function in a class).\n",
        "\n",
        "* Each class method should have an argument `self` as its first argument. This object is a self-reference.\n",
        "\n",
        "* Some class method names have special meaning, for example:\n",
        "\n",
        "    * `__init__`: The name of the method that is invoked when the object is first created.\n",
        "    * `__str__` : A method that is invoked when a simple string representation of the class is needed, as for example when printed.\n",
        "    * There are many more, see http://docs.python.org/2/reference/datamodel.html#special-method-names"
      ]
    },
    {
      "cell_type": "code",
      "execution_count": null,
      "metadata": {
        "id": "3yl0a2FLqIGp"
      },
      "outputs": [],
      "source": [
        "class Point:\n",
        "    \"\"\"\n",
        "    Simple class for representing a point in a Cartesian coordinate system.\n",
        "    \"\"\"\n",
        "\n",
        "    def __init__(self, x, y):\n",
        "        \"\"\"\n",
        "        Create a new Point at x, y.\n",
        "        \"\"\"\n",
        "        self.x = x\n",
        "        self.y = y\n",
        "\n",
        "    def translate(self, dx, dy):\n",
        "        \"\"\"\n",
        "        Translate the point by dx and dy in the x and y direction.\n",
        "        \"\"\"\n",
        "        self.x += dx\n",
        "        self.y += dy\n",
        "\n",
        "    def __str__(self):\n",
        "        return(\"Point at [%f, %f]\" % (self.x, self.y))"
      ]
    },
    {
      "cell_type": "markdown",
      "metadata": {
        "id": "aJnnrtRhqIGp"
      },
      "source": [
        "To create a new instance of a class:"
      ]
    },
    {
      "cell_type": "code",
      "execution_count": null,
      "metadata": {
        "id": "kbeKcv5DqIGp",
        "outputId": "56806640-ebca-4edc-de06-0a758713588c"
      },
      "outputs": [
        {
          "name": "stdout",
          "output_type": "stream",
          "text": [
            "Point at [0.000000, 0.000000]\n"
          ]
        }
      ],
      "source": [
        "p1 = Point(0, 0) # this will invoke the __init__ method in the Point class\n",
        "\n",
        "print(p1)         # this will invoke the __str__ method"
      ]
    },
    {
      "cell_type": "markdown",
      "metadata": {
        "id": "XVPP1oXNqIGp"
      },
      "source": [
        "To invoke a class method in the class instance `p`:"
      ]
    },
    {
      "cell_type": "code",
      "execution_count": null,
      "metadata": {
        "id": "JvXXt9CTqIGp",
        "outputId": "53173f0c-57d1-4f4f-fae2-cfc836c94ba4"
      },
      "outputs": [
        {
          "name": "stdout",
          "output_type": "stream",
          "text": [
            "Point at [0.250000, 1.500000]\n",
            "Point at [1.000000, 1.000000]\n"
          ]
        }
      ],
      "source": [
        "p2 = Point(1, 1)\n",
        "\n",
        "p1.translate(0.25, 1.5)\n",
        "\n",
        "print(p1)\n",
        "print(p2)"
      ]
    },
    {
      "cell_type": "markdown",
      "metadata": {
        "id": "M2_H62KXqIGp"
      },
      "source": [
        "Note that calling class methods can modify the state of that particular class instance, but does not effect other class instances or any global variables.\n",
        "\n",
        "That is one of the nice things about object-oriented design: code such as functions and related variables are grouped in separate and independent entities."
      ]
    },
    {
      "cell_type": "markdown",
      "metadata": {
        "id": "c2HHe3FyqIGp"
      },
      "source": [
        "## Modules"
      ]
    },
    {
      "cell_type": "markdown",
      "metadata": {
        "id": "d1HFazL5qIGp"
      },
      "source": [
        "One of the most important concepts in good programming is to reuse code and avoid repetitions.\n",
        "\n",
        "The idea is to write functions and classes with a well-defined purpose and scope, and reuse these instead of repeating similar code in different part of a program (modular programming). The result is usually that readability and maintainability of a program is greatly improved. What this means in practice is that our programs have fewer bugs, are easier to extend and debug/troubleshoot.\n",
        "\n",
        "Python supports modular programming at different levels. Functions and classes are examples of tools for low-level modular programming. Python modules are a higher-level modular programming construct, where we can collect related variables, functions and classes in a module. A python module is defined in a python file (with file-ending `.py`), and it can be made accessible to other Python modules and programs using the `import` statement.\n",
        "\n",
        "Consider the following example: the file `mymodule.py` contains simple example implementations of a variable, function and a class:"
      ]
    },
    {
      "cell_type": "code",
      "execution_count": null,
      "metadata": {
        "id": "V9aOxkHGqIGq",
        "outputId": "6cc99ce6-aaac-40a4-a77b-429561ac3b3e"
      },
      "outputs": [
        {
          "name": "stdout",
          "output_type": "stream",
          "text": [
            "Writing mymodule.py\n"
          ]
        }
      ],
      "source": [
        "%%file mymodule.py\n",
        "\"\"\"\n",
        "Example of a python module. Contains a variable called my_variable,\n",
        "a function called my_function, and a class called MyClass.\n",
        "\"\"\"\n",
        "\n",
        "my_variable = 0\n",
        "\n",
        "def my_function():\n",
        "    \"\"\"\n",
        "    Example function\n",
        "    \"\"\"\n",
        "    return my_variable\n",
        "\n",
        "class MyClass:\n",
        "    \"\"\"\n",
        "    Example class.\n",
        "    \"\"\"\n",
        "\n",
        "    def __init__(self):\n",
        "        self.variable = my_variable\n",
        "\n",
        "    def set_variable(self, new_value):\n",
        "        \"\"\"\n",
        "        Set self.variable to a new value\n",
        "        \"\"\"\n",
        "        self.variable = new_value\n",
        "\n",
        "    def get_variable(self):\n",
        "        return self.variable"
      ]
    },
    {
      "cell_type": "markdown",
      "metadata": {
        "id": "zqwmlxyBqIGq"
      },
      "source": [
        "We can import the module `mymodule` into our Python program using `import`:"
      ]
    },
    {
      "cell_type": "code",
      "execution_count": null,
      "metadata": {
        "id": "cQ3dVaTTqIGq"
      },
      "outputs": [],
      "source": [
        "import mymodule"
      ]
    },
    {
      "cell_type": "markdown",
      "metadata": {
        "id": "31BsHJl7qIGq"
      },
      "source": [
        "Use `help(module)` to get a summary of what the module provides:"
      ]
    },
    {
      "cell_type": "code",
      "execution_count": null,
      "metadata": {
        "id": "qAXL53EzqIGq",
        "outputId": "f077df37-e582-40f5-a20a-44b40fb6a437"
      },
      "outputs": [
        {
          "name": "stdout",
          "output_type": "stream",
          "text": [
            "Help on module mymodule:\n",
            "\n",
            "NAME\n",
            "    mymodule\n",
            "\n",
            "FILE\n",
            "    /Users/rob/Desktop/scientific-python-lectures/mymodule.py\n",
            "\n",
            "DESCRIPTION\n",
            "    Example of a python module. Contains a variable called my_variable,\n",
            "    a function called my_function, and a class called MyClass.\n",
            "\n",
            "CLASSES\n",
            "    MyClass\n",
            "    \n",
            "    class MyClass\n",
            "     |  Example class.\n",
            "     |  \n",
            "     |  Methods defined here:\n",
            "     |  \n",
            "     |  __init__(self)\n",
            "     |  \n",
            "     |  get_variable(self)\n",
            "     |  \n",
            "     |  set_variable(self, new_value)\n",
            "     |      Set self.variable to a new value\n",
            "\n",
            "FUNCTIONS\n",
            "    my_function()\n",
            "        Example function\n",
            "\n",
            "DATA\n",
            "    my_variable = 0\n",
            "\n",
            "\n"
          ]
        }
      ],
      "source": [
        "help(mymodule)"
      ]
    },
    {
      "cell_type": "code",
      "execution_count": null,
      "metadata": {
        "id": "Hkv_FukHqIGq",
        "outputId": "a449059f-acd7-4c01-87f2-af1bcef4c7b7"
      },
      "outputs": [
        {
          "data": {
            "text/plain": [
              "0"
            ]
          },
          "execution_count": 124,
          "metadata": {},
          "output_type": "execute_result"
        }
      ],
      "source": [
        "mymodule.my_variable"
      ]
    },
    {
      "cell_type": "code",
      "execution_count": null,
      "metadata": {
        "id": "QSBGVjYjqIGq",
        "outputId": "0dfa7f42-e586-46a1-ee4c-9fbbaa30bd92"
      },
      "outputs": [
        {
          "data": {
            "text/plain": [
              "0"
            ]
          },
          "execution_count": 125,
          "metadata": {},
          "output_type": "execute_result"
        }
      ],
      "source": [
        "mymodule.my_function()"
      ]
    },
    {
      "cell_type": "code",
      "execution_count": null,
      "metadata": {
        "id": "Gmk5TAv9qIGq",
        "outputId": "b8f7a83e-300f-49db-9dfd-0021a3da7ba6"
      },
      "outputs": [
        {
          "data": {
            "text/plain": [
              "10"
            ]
          },
          "execution_count": 126,
          "metadata": {},
          "output_type": "execute_result"
        }
      ],
      "source": [
        "my_class = mymodule.MyClass()\n",
        "my_class.set_variable(10)\n",
        "my_class.get_variable()"
      ]
    },
    {
      "cell_type": "markdown",
      "metadata": {
        "id": "LYN3jWP9qIGq"
      },
      "source": [
        "If we make changes to the code in `mymodule.py`, we need to reload it using `reload`:"
      ]
    },
    {
      "cell_type": "code",
      "execution_count": null,
      "metadata": {
        "id": "dAu1qybBqIGq",
        "outputId": "f3e179a3-08d0-4e3b-83c8-1966b79fa0cb"
      },
      "outputs": [
        {
          "data": {
            "text/plain": [
              "<module 'mymodule' from 'mymodule.pyc'>"
            ]
          },
          "execution_count": 127,
          "metadata": {},
          "output_type": "execute_result"
        }
      ],
      "source": [
        "reload(mymodule)  # works only in python 2"
      ]
    },
    {
      "cell_type": "markdown",
      "metadata": {
        "id": "FFf4CDtLqIGq"
      },
      "source": [
        "## Exceptions"
      ]
    },
    {
      "cell_type": "markdown",
      "metadata": {
        "id": "Wu6TL2VnqIGq"
      },
      "source": [
        "In Python errors are managed with a special language construct called \"Exceptions\". When errors occur exceptions can be raised, which interrupts the normal program flow and fallback to somewhere else in the code where the closest try-except statement is defined."
      ]
    },
    {
      "cell_type": "markdown",
      "metadata": {
        "id": "k5kSk0sgqIGr"
      },
      "source": [
        "To generate an exception we can use the `raise` statement, which takes an argument that must be an instance of the class `BaseException` or a class derived from it."
      ]
    },
    {
      "cell_type": "code",
      "execution_count": null,
      "metadata": {
        "id": "zFkECWxJqIGr",
        "outputId": "78a7b45b-5d2a-4073-8190-1a6a6ffc2e9b"
      },
      "outputs": [
        {
          "ename": "Exception",
          "evalue": "description of the error",
          "output_type": "error",
          "traceback": [
            "\u001b[0;31m---------------------------------------------------------------------------\u001b[0m",
            "\u001b[0;31mException\u001b[0m                                 Traceback (most recent call last)",
            "\u001b[0;32m<ipython-input-128-8f47ba831d5a>\u001b[0m in \u001b[0;36m<module>\u001b[0;34m()\u001b[0m\n\u001b[0;32m----> 1\u001b[0;31m \u001b[0;32mraise\u001b[0m \u001b[0mException\u001b[0m\u001b[0;34m(\u001b[0m\u001b[0;34m\"description of the error\"\u001b[0m\u001b[0;34m)\u001b[0m\u001b[0;34m\u001b[0m\u001b[0m\n\u001b[0m",
            "\u001b[0;31mException\u001b[0m: description of the error"
          ]
        }
      ],
      "source": [
        "raise Exception(\"description of the error\")"
      ]
    },
    {
      "cell_type": "markdown",
      "metadata": {
        "id": "YZCDiWdCqIGr"
      },
      "source": [
        "A typical use of exceptions is to abort functions when some error condition occurs, for example:\n",
        "\n",
        "    def my_function(arguments):\n",
        "    \n",
        "        if not verify(arguments):\n",
        "            raise Exception(\"Invalid arguments\")\n",
        "        \n",
        "        # rest of the code goes here"
      ]
    },
    {
      "cell_type": "markdown",
      "metadata": {
        "id": "3ecjgW4gqIGr"
      },
      "source": [
        "To gracefully catch errors that are generated by functions and class methods, or by the Python interpreter itself, use the `try` and  `except` statements:\n",
        "\n",
        "    try:\n",
        "        # normal code goes here\n",
        "    except:\n",
        "        # code for error handling goes here\n",
        "        # this code is not executed unless the code\n",
        "        # above generated an error\n",
        "\n",
        "For example:"
      ]
    },
    {
      "cell_type": "code",
      "execution_count": null,
      "metadata": {
        "id": "1Sqpuw1iqIGr",
        "outputId": "5aef72ab-8328-4812-c63b-8e210097fb48"
      },
      "outputs": [
        {
          "name": "stdout",
          "output_type": "stream",
          "text": [
            "test\n",
            "Caught an exception\n"
          ]
        }
      ],
      "source": [
        "try:\n",
        "    print(\"test\")\n",
        "    # generate an error: the variable test is not defined\n",
        "    print(test)\n",
        "except:\n",
        "    print(\"Caught an exception\")"
      ]
    },
    {
      "cell_type": "markdown",
      "metadata": {
        "id": "wfhTUr7CqIGr"
      },
      "source": [
        "To get information about the error, we can access the `Exception` class instance that describes the exception by using for example:\n",
        "\n",
        "    except Exception as e:"
      ]
    },
    {
      "cell_type": "code",
      "execution_count": null,
      "metadata": {
        "id": "08hJCDVeqIGr",
        "outputId": "2670f36e-2396-489a-efa1-0036353ae5cf"
      },
      "outputs": [
        {
          "name": "stdout",
          "output_type": "stream",
          "text": [
            "test\n",
            "Caught an exception:name 'test' is not defined\n"
          ]
        }
      ],
      "source": [
        "try:\n",
        "    print(\"test\")\n",
        "    # generate an error: the variable test is not defined\n",
        "    print(test)\n",
        "except Exception as e:\n",
        "    print(\"Caught an exception:\" + str(e))"
      ]
    },
    {
      "cell_type": "markdown",
      "metadata": {
        "id": "sMooEN6eqIGr"
      },
      "source": [
        "## Further reading"
      ]
    },
    {
      "cell_type": "markdown",
      "metadata": {
        "id": "bzKmJB_DqIGr"
      },
      "source": [
        "* http://www.python.org - The official web page of the Python programming language.\n",
        "* http://www.python.org/dev/peps/pep-0008 - Style guide for Python programming. Highly recommended.\n",
        "* http://www.greenteapress.com/thinkpython/ - A free book on Python programming.\n",
        "* [Python Essential Reference](http://www.amazon.com/Python-Essential-Reference-4th-Edition/dp/0672329786) - A good reference book on Python programming."
      ]
    },
    {
      "cell_type": "markdown",
      "metadata": {
        "id": "IfaUTbkDqIGr"
      },
      "source": [
        "## Versions"
      ]
    },
    {
      "cell_type": "code",
      "execution_count": null,
      "metadata": {
        "id": "7gc440sDqIGr",
        "outputId": "05ab944b-db33-4d49-8821-af69751b242c"
      },
      "outputs": [
        {
          "data": {
            "application/json": {
              "Software versions": [
                {
                  "module": "Python",
                  "version": "2.7.10 64bit [GCC 4.2.1 (Apple Inc. build 5577)]"
                },
                {
                  "module": "IPython",
                  "version": "3.2.1"
                },
                {
                  "module": "OS",
                  "version": "Darwin 14.1.0 x86_64 i386 64bit"
                }
              ]
            },
            "text/html": [
              "<table><tr><th>Software</th><th>Version</th></tr><tr><td>Python</td><td>2.7.10 64bit [GCC 4.2.1 (Apple Inc. build 5577)]</td></tr><tr><td>IPython</td><td>3.2.1</td></tr><tr><td>OS</td><td>Darwin 14.1.0 x86_64 i386 64bit</td></tr><tr><td colspan='2'>Sat Aug 15 10:51:55 2015 JST</td></tr></table>"
            ],
            "text/latex": [
              "\\begin{tabular}{|l|l|}\\hline\n",
              "{\\bf Software} & {\\bf Version} \\\\ \\hline\\hline\n",
              "Python & 2.7.10 64bit [GCC 4.2.1 (Apple Inc. build 5577)] \\\\ \\hline\n",
              "IPython & 3.2.1 \\\\ \\hline\n",
              "OS & Darwin 14.1.0 x86\\_64 i386 64bit \\\\ \\hline\n",
              "\\hline \\multicolumn{2}{|l|}{Sat Aug 15 10:51:55 2015 JST} \\\\ \\hline\n",
              "\\end{tabular}\n"
            ],
            "text/plain": [
              "Software versions\n",
              "Python 2.7.10 64bit [GCC 4.2.1 (Apple Inc. build 5577)]\n",
              "IPython 3.2.1\n",
              "OS Darwin 14.1.0 x86_64 i386 64bit\n",
              "Sat Aug 15 10:51:55 2015 JST"
            ]
          },
          "execution_count": 131,
          "metadata": {},
          "output_type": "execute_result"
        }
      ],
      "source": [
        "%load_ext version_information\n",
        "\n",
        "%version_information"
      ]
    }
  ],
  "metadata": {
    "kernelspec": {
      "display_name": "Python 3",
      "name": "python3"
    },
    "language_info": {
      "name": "python"
    },
    "colab": {
      "provenance": [],
      "include_colab_link": true
    }
  },
  "nbformat": 4,
  "nbformat_minor": 0
}